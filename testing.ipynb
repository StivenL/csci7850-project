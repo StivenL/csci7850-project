{
 "cells": [
  {
   "cell_type": "markdown",
   "id": "8bc38b5a-d9f0-4e14-bb81-2bb0e6cd48c8",
   "metadata": {},
   "source": [
    "## Project Testing"
   ]
  },
  {
   "cell_type": "markdown",
   "id": "d3c2ea5c-09c0-44d4-8711-aee6bd5df28a",
   "metadata": {},
   "source": [
    "### Necessary Imports"
   ]
  },
  {
   "cell_type": "code",
   "execution_count": 12,
   "id": "b797bc9b-a13d-49c4-b2ab-08e9aaedfb75",
   "metadata": {},
   "outputs": [],
   "source": [
    "import os\n",
    "import numpy as np\n",
    "import pandas as pd\n",
    "from torchinfo import summary\n",
    "import lightning.pytorch as pl\n",
    "import matplotlib.pyplot as plt\n",
    "import torchvision.transforms as T\n",
    "import torch, torchvision, torchmetrics, imageio\n",
    "\n",
    "from tqdm import tqdm\n",
    "from colorama import Fore\n",
    "from sklearn import preprocessing\n",
    "from skimage.transform import resize\n",
    "from skimage import img_as_ubyte\n",
    "\n",
    "# Minor tensor-core speedup\n",
    "torch.set_float32_matmul_precision('medium')"
   ]
  },
  {
   "cell_type": "code",
   "execution_count": 2,
   "id": "8ddd6c6e-9683-4ad2-8697-7962d415553e",
   "metadata": {},
   "outputs": [],
   "source": [
    "# import os\n",
    "# os.environ['http_proxy'] = 'http://10.72.8.25:8080'\n",
    "# os.environ['https_proxy'] = 'http://10.72.8.25:8080'"
   ]
  },
  {
   "cell_type": "markdown",
   "id": "6ddde8e5-5380-400f-82cb-621e3b2d3f37",
   "metadata": {},
   "source": [
    "---"
   ]
  },
  {
   "cell_type": "code",
   "execution_count": 3,
   "id": "1b7ac897",
   "metadata": {},
   "outputs": [],
   "source": [
    "import ssl\n",
    "ssl._create_default_https_context = ssl._create_unverified_context"
   ]
  },
  {
   "cell_type": "markdown",
   "id": "0a6209e0",
   "metadata": {},
   "source": [
    "class EuroSATDataModule(pl.LightningDataModule):\n",
    "    def __init__(self,\n",
    "                 batch_size = 64,\n",
    "                 val_split = 0.2,\n",
    "                 num_workers = 4,\n",
    "                 location = './data/',\n",
    "                 **kwargs):\n",
    "        super().__init__(**kwargs)\n",
    "        self.batch_size = batch_size\n",
    "        self.split = val_split\n",
    "        self.num_workers = num_workers\n",
    "        self.location = location\n",
    "        self.input_shape = None\n",
    "        self.output_shape = None\n",
    "        self.data_train = None\n",
    "        self.data_val = None\n",
    "\n",
    "    def prepare_data(self):\n",
    "        if not os.path.exists(os.path.join(self.location, '2750')):\n",
    "            self._download_dataset()\n",
    "\n",
    "    def _download_dataset(self):\n",
    "        torchvision.datasets.utils.download_and_extract_archive(\n",
    "            \"https://madm.dfki.de/files/sentinel/EuroSAT.zip\",\n",
    "            download_root = self.location,\n",
    "            md5 = \"c8fa014336c82ac7804f0398fcb19387\",\n",
    "        )\n",
    "\n",
    "    def setup(self, stage: str):\n",
    "        self.prepare_data()\n",
    "        dataset = torchvision.datasets.ImageFolder(root = os.path.join(self.location, '2750'))\n",
    "        train_size = int(0.8 * len(dataset))\n",
    "        test_size = len(dataset) - train_size\n",
    "        self.train_dataset, self.test_dataset = torch.utils.data.random_split(dataset, [train_size, test_size])\n",
    "\n",
    "    def train_dataloader(self):\n",
    "        return torch.utils.data.DataLoader(self.train_dataset,\n",
    "                                           batch_size = self.batch_size,\n",
    "                                           num_workers = self.num_workers,\n",
    "                                           shuffle = True)\n",
    "    \n",
    "    def test_dataloader(self):\n",
    "        return torch.utils.data.DataLoader(self.test_dataset,\n",
    "                                           batch_size = self.batch_size,\n",
    "                                           num_workers = self.num_workers,\n",
    "                                           shuffle = False)"
   ]
  },
  {
   "cell_type": "code",
   "execution_count": 4,
   "id": "e499ce53-cf79-4272-9189-ec934c8f32b5",
   "metadata": {},
   "outputs": [],
   "source": [
    "class EuroSATDataModule(pl.LightningDataModule):\n",
    "    def __init__(self,\n",
    "                 batch_size = 64,\n",
    "                 val_split = 0.2,\n",
    "                 num_workers = 4,\n",
    "                 location = './data',\n",
    "                 **kwargs):\n",
    "        super().__init__(**kwargs)\n",
    "        self.batch_size = batch_size\n",
    "        self.val_split = val_split\n",
    "        self.num_workers = num_workers\n",
    "        self.location = location\n",
    "        self.input_shape = None\n",
    "        self.output_shape = None\n",
    "        self.data_train = None\n",
    "        self.data_val = None\n",
    "\n",
    "        self._load_data()\n",
    "\n",
    "    def _load_data(self):\n",
    "        if not os.path.exists(os.path.join(self.location, '2750')):\n",
    "            self._download_dataset()\n",
    "        \n",
    "        images = np.zeros([27000, 64, 64, 3], dtype = \"uint8\")\n",
    "        labels = []\n",
    "        filenames = []\n",
    "\n",
    "        i = 0\n",
    "        data_dir = os.path.join(self.location, '2750')\n",
    "\n",
    "        with tqdm(os.listdir(data_dir), bar_format = \"{l_bar}%s{bar}%s{r_bar}\" % (Fore.GREEN, Fore.RESET)) as dir_bar:\n",
    "            for item in dir_bar:\n",
    "                f = os.path.join(data_dir, item)\n",
    "                if os.path.isfile(f):\n",
    "                    continue\n",
    "                for subitem in os.listdir(f):\n",
    "                    sub_f = os.path.join(f, subitem)\n",
    "                    filenames.append(sub_f)\n",
    "\n",
    "                    image = imageio.imread(sub_f)\n",
    "                    if image.shape[0] != 64 or image.shape[1] != 64:\n",
    "                        image = img_as_ubyte(\n",
    "                            resize(\n",
    "                                image, (64, 64), anti_aliasing = True)\n",
    "                        )\n",
    "                    images[i] = img_as_ubyte(image)\n",
    "                    i += 1\n",
    "                    labels.append(item)\n",
    "\n",
    "                dir_bar.set_postfix(category = item)\n",
    "\n",
    "        labels = np.asarray(labels)\n",
    "        filenames = np.asarray(filenames)\n",
    "\n",
    "        # sort by filenames\n",
    "        images = images[filenames.argsort()]\n",
    "        labels = labels[filenames.argsort()]\n",
    "\n",
    "        # convert to integer labels\n",
    "        label_encoder = preprocessing.LabelEncoder()\n",
    "        label_encoder.fit(np.sort(np.unique(labels)))\n",
    "        labels = label_encoder.transform(labels)\n",
    "        labels = np.asarray(labels)\n",
    "        # remember label encoding\n",
    "        self.label_encoding = list(label_encoder.classes_)\n",
    "\n",
    "        self.data = images\n",
    "        self.targets = labels\n",
    "\n",
    "    def _download_dataset(self):\n",
    "        torchvision.datasets.utils.download_and_extract_archive(\n",
    "            \"https://madm.dfki.de/files/sentinel/EuroSAT.zip\",\n",
    "            download_root = self.location,\n",
    "            md5 = \"c8fa014336c82ac7804f0398fcb19387\",\n",
    "        )\n",
    "    \n",
    "    def setup(self, stage: str):\n",
    "        if (stage == 'fit' or \\\n",
    "            stage == 'validate') and \\\n",
    "            not(self.data_train and self.data_val):\n",
    "            x_train = self.data.transpose((0,3,1,2))\n",
    "            y_train = np.array(self.targets)\n",
    "            self.input_shape = x_train.shape[1:]\n",
    "            self.output_shape = (len(np.unique(y_train)),)\n",
    "            rng = np.random.default_rng()\n",
    "            permutation = rng.permutation(x_train.shape[0])\n",
    "            split_point = int(x_train.shape[0] * (1.0 - self.val_split))\n",
    "            self.data_train = list(zip(torch.Tensor(x_train[permutation[:split_point]]).to(torch.float32),\n",
    "                                       torch.Tensor(y_train[permutation[:split_point]]).to(torch.long)))\n",
    "            self.data_val = list(zip(torch.Tensor(x_train[permutation[split_point:]]).to(torch.float32),\n",
    "                                     torch.Tensor(y_train[permutation[split_point:]]).to(torch.long)))\n",
    "\n",
    "    def train_dataloader(self):\n",
    "        return torch.utils.data.DataLoader(self.data_train,\n",
    "                                           batch_size = self.batch_size,\n",
    "                                           num_workers = self.num_workers,\n",
    "                                           shuffle = True)\n",
    "\n",
    "    def val_dataloader(self):\n",
    "        return torch.utils.data.DataLoader(self.data_val,\n",
    "                                           batch_size = self.batch_size,\n",
    "                                           num_workers = self.num_workers,\n",
    "                                           shuffle = False)"
   ]
  },
  {
   "cell_type": "code",
   "execution_count": 4,
   "id": "693524b3-1c33-41e4-9c7e-cce9421760c9",
   "metadata": {},
   "outputs": [],
   "source": [
    "import ssl\n",
    "ssl._create_default_https_context = ssl._create_unverified_context"
   ]
  },
  {
   "cell_type": "code",
   "execution_count": 5,
   "id": "08b9ba4e-ea7a-4b81-bf39-512cc36759e5",
   "metadata": {
    "scrolled": true
   },
   "outputs": [
    {
     "name": "stdout",
     "output_type": "stream",
     "text": [
      "Downloading https://madm.dfki.de/files/sentinel/EuroSAT.zip to ./data/EuroSAT.zip\n"
     ]
    },
    {
     "name": "stderr",
     "output_type": "stream",
     "text": [
      "100%|██████████| 94.3M/94.3M [00:09<00:00, 9.49MB/s]\n"
     ]
    },
    {
     "name": "stdout",
     "output_type": "stream",
     "text": [
      "Extracting ./data/EuroSAT.zip to ./data\n"
     ]
    },
    {
     "name": "stderr",
     "output_type": "stream",
     "text": [
      "  0%|\u001b[32m          \u001b[39m| 0/10 [00:00<?, ?it/s]/var/folders/42/5jr766g57bd9bxgy6m30dz880000gn/T/ipykernel_39285/2981997001.py:40: DeprecationWarning: Starting with ImageIO v3 the behavior of this function will switch to that of iio.v3.imread. To keep the current behavior (and make this warning disappear) use `import imageio.v2 as imageio` or call `imageio.v2.imread` directly.\n",
      "  image = imageio.imread(sub_f)\n",
      "100%|\u001b[32m██████████\u001b[39m| 10/10 [00:05<00:00,  1.67it/s, category=Pasture]            \n"
     ]
    }
   ],
   "source": [
    "data_module = EuroSATDataModule(batch_size = 32)"
   ]
  },
  {
   "cell_type": "code",
   "execution_count": 6,
   "id": "9cbde044-b171-4974-a752-32ee1c76ef91",
   "metadata": {},
   "outputs": [],
   "source": [
    "data_module.setup('fit')"
   ]
  },
  {
   "cell_type": "code",
   "execution_count": 7,
   "id": "59a98ffe-ee18-41f1-97bb-8260d6065274",
   "metadata": {},
   "outputs": [],
   "source": [
    "dl = data_module.train_dataloader()"
   ]
  },
  {
   "cell_type": "code",
   "execution_count": 8,
   "id": "fd1df5c5-9e36-48c7-9977-434075fb2dbd",
   "metadata": {},
   "outputs": [],
   "source": [
    "batch = next(iter(dl))"
   ]
  },
  {
   "cell_type": "code",
   "execution_count": 9,
   "id": "a69742e2-9381-42aa-8dc7-5bfa991603bb",
   "metadata": {
    "scrolled": true
   },
   "outputs": [
    {
     "data": {
      "text/plain": [
       "[tensor([[[[ 55.,  55.,  56.,  ...,  67.,  78.,  83.],\n",
       "           [ 55.,  55.,  56.,  ...,  67.,  78.,  81.],\n",
       "           [ 55.,  55.,  56.,  ...,  73.,  76.,  71.],\n",
       "           ...,\n",
       "           [106., 103., 100.,  ..., 103., 110.,  94.],\n",
       "           [122., 116., 110.,  ...,  98., 105.,  77.],\n",
       "           [147., 140., 132.,  ...,  77.,  92.,  81.]],\n",
       " \n",
       "          [[ 85.,  85.,  85.,  ...,  87.,  93.,  94.],\n",
       "           [ 85.,  86.,  85.,  ...,  87.,  93.,  94.],\n",
       "           [ 86.,  86.,  85.,  ...,  94.,  95.,  89.],\n",
       "           ...,\n",
       "           [ 96.,  98.,  99.,  ..., 111., 117.,  98.],\n",
       "           [ 91.,  93., 100.,  ..., 112., 118.,  87.],\n",
       "           [105., 109., 116.,  ...,  94., 107.,  96.]],\n",
       " \n",
       "          [[ 93.,  93.,  91.,  ...,  94., 100., 100.],\n",
       "           [ 93.,  91.,  91.,  ...,  94., 100., 100.],\n",
       "           [ 91.,  91.,  91.,  ...,  99.,  99.,  93.],\n",
       "           ...,\n",
       "           [104., 104., 105.,  ..., 122., 127., 107.],\n",
       "           [ 99., 101., 108.,  ..., 121., 126.,  96.],\n",
       "           [115., 117., 126.,  ..., 102., 114., 103.]]],\n",
       " \n",
       " \n",
       "         [[[ 46.,  45.,  46.,  ...,  79.,  79.,  78.],\n",
       "           [ 46.,  45.,  45.,  ...,  81.,  80.,  78.],\n",
       "           [ 44.,  45.,  44.,  ...,  79.,  78.,  77.],\n",
       "           ...,\n",
       "           [ 72.,  72., 117.,  ...,  33.,  36.,  31.],\n",
       "           [ 89.,  90., 137.,  ...,  40.,  37.,  34.],\n",
       "           [114., 115., 142.,  ...,  49.,  46.,  41.]],\n",
       " \n",
       "          [[ 85.,  86.,  88.,  ...,  82.,  82.,  81.],\n",
       "           [ 85.,  86.,  87.,  ...,  84.,  83.,  81.],\n",
       "           [ 85.,  86.,  86.,  ...,  82.,  81.,  80.],\n",
       "           ...,\n",
       "           [ 85.,  85., 126.,  ...,  61.,  62.,  58.],\n",
       "           [ 99.,  99., 142.,  ...,  67.,  65.,  63.],\n",
       "           [123., 122., 142.,  ...,  76.,  75.,  70.]],\n",
       " \n",
       "          [[ 82.,  82.,  84.,  ...,  87.,  89.,  88.],\n",
       "           [ 82.,  82.,  83.,  ...,  89.,  90.,  88.],\n",
       "           [ 79.,  82.,  82.,  ...,  89.,  88.,  87.],\n",
       "           ...,\n",
       "           [ 94.,  93., 135.,  ...,  72.,  75.,  69.],\n",
       "           [108., 106., 148.,  ...,  76.,  76.,  71.],\n",
       "           [130., 128., 150.,  ...,  85.,  83.,  78.]]],\n",
       " \n",
       " \n",
       "         [[[ 63.,  63.,  69.,  ...,  95.,  80.,  77.],\n",
       "           [ 63.,  63.,  69.,  ...,  95.,  78.,  77.],\n",
       "           [ 63.,  62.,  69.,  ...,  93.,  77.,  73.],\n",
       "           ...,\n",
       "           [ 34.,  33.,  36.,  ...,  63.,  64.,  65.],\n",
       "           [ 36.,  34.,  32.,  ...,  63.,  66.,  63.],\n",
       "           [ 38.,  38.,  35.,  ...,  66.,  66.,  59.]],\n",
       " \n",
       "          [[ 93.,  93.,  96.,  ..., 100.,  93.,  97.],\n",
       "           [ 93.,  93.,  96.,  ..., 100.,  93.,  96.],\n",
       "           [ 94.,  94.,  99.,  ...,  99.,  92.,  94.],\n",
       "           ...,\n",
       "           [ 56.,  57.,  60.,  ...,  88.,  89.,  90.],\n",
       "           [ 60.,  61.,  59.,  ...,  88.,  91.,  88.],\n",
       "           [ 65.,  65.,  64.,  ...,  92.,  91.,  84.]],\n",
       " \n",
       "          [[ 85.,  83.,  87.,  ...,  93.,  86.,  88.],\n",
       "           [ 85.,  83.,  87.,  ...,  94.,  86.,  90.],\n",
       "           [ 86.,  83.,  89.,  ...,  95.,  87.,  89.],\n",
       "           ...,\n",
       "           [ 69.,  69.,  72.,  ...,  84.,  85.,  86.],\n",
       "           [ 70.,  70.,  68.,  ...,  82.,  87.,  84.],\n",
       "           [ 72.,  72.,  72.,  ...,  83.,  87.,  80.]]],\n",
       " \n",
       " \n",
       "         ...,\n",
       " \n",
       " \n",
       "         [[[ 39.,  39.,  39.,  ...,  39.,  39.,  38.],\n",
       "           [ 39.,  37.,  38.,  ...,  39.,  39.,  38.],\n",
       "           [ 40.,  41.,  37.,  ...,  39.,  38.,  40.],\n",
       "           ...,\n",
       "           [ 36.,  36.,  40.,  ...,  40.,  37.,  39.],\n",
       "           [ 43.,  43.,  39.,  ...,  39.,  35.,  38.],\n",
       "           [ 39.,  39.,  39.,  ...,  39.,  39.,  41.]],\n",
       " \n",
       "          [[ 62.,  62.,  65.,  ...,  67.,  65.,  64.],\n",
       "           [ 62.,  63.,  64.,  ...,  67.,  65.,  64.],\n",
       "           [ 66.,  67.,  63.,  ...,  65.,  66.,  68.],\n",
       "           ...,\n",
       "           [ 62.,  62.,  66.,  ...,  66.,  65.,  67.],\n",
       "           [ 71.,  71.,  65.,  ...,  67.,  61.,  64.],\n",
       "           [ 67.,  67.,  65.,  ...,  67.,  65.,  67.]],\n",
       " \n",
       "          [[ 80.,  78.,  80.,  ...,  79.,  80.,  79.],\n",
       "           [ 80.,  78.,  79.,  ...,  79.,  80.,  79.],\n",
       "           [ 81.,  82.,  78.,  ...,  78.,  80.,  82.],\n",
       "           ...,\n",
       "           [ 77.,  77.,  81.,  ...,  81.,  79.,  81.],\n",
       "           [ 83.,  83.,  80.,  ...,  81.,  76.,  79.],\n",
       "           [ 79.,  79.,  80.,  ...,  81.,  80.,  82.]]],\n",
       " \n",
       " \n",
       "         [[[ 90.,  90.,  84.,  ...,  77.,  79.,  82.],\n",
       "           [ 87.,  88.,  84.,  ...,  76.,  79.,  79.],\n",
       "           [ 72.,  72.,  69.,  ...,  75.,  74.,  72.],\n",
       "           ...,\n",
       "           [106., 106.,  86.,  ...,  87.,  92.,  95.],\n",
       "           [104., 103.,  94.,  ...,  85.,  97., 108.],\n",
       "           [110., 109.,  92.,  ...,  72.,  82., 103.]],\n",
       " \n",
       "          [[100., 100.,  97.,  ...,  88.,  88.,  91.],\n",
       "           [100., 101.,  97.,  ...,  90.,  90.,  93.],\n",
       "           [ 86.,  86.,  83.,  ...,  90.,  92.,  91.],\n",
       "           ...,\n",
       "           [110., 110.,  93.,  ...,  98.,  98., 101.],\n",
       "           [105., 106., 101.,  ...,  95., 103., 112.],\n",
       "           [111., 112., 101.,  ...,  82.,  88., 107.]],\n",
       " \n",
       "          [[109., 109., 106.,  ...,  90.,  93.,  96.],\n",
       "           [109., 110., 106.,  ...,  91.,  94.,  96.],\n",
       "           [ 97.,  95.,  92.,  ...,  93.,  96.,  95.],\n",
       "           ...,\n",
       "           [121., 122., 109.,  ..., 104., 110., 115.],\n",
       "           [123., 123., 119.,  ..., 104., 115., 124.],\n",
       "           [131., 131., 118.,  ...,  92., 100., 119.]]],\n",
       " \n",
       " \n",
       "         [[[ 54.,  54.,  52.,  ...,  84.,  72.,  65.],\n",
       "           [ 54.,  54.,  52.,  ...,  83.,  72.,  65.],\n",
       "           [ 51.,  51.,  52.,  ...,  72.,  71.,  73.],\n",
       "           ...,\n",
       "           [ 64.,  65.,  71.,  ..., 104., 101., 103.],\n",
       "           [ 67.,  67.,  71.,  ..., 106., 106., 105.],\n",
       "           [ 66.,  66.,  71.,  ..., 105., 106., 104.]],\n",
       " \n",
       "          [[ 77.,  77.,  77.,  ...,  88.,  78.,  71.],\n",
       "           [ 77.,  77.,  77.,  ...,  90.,  78.,  71.],\n",
       "           [ 76.,  76.,  75.,  ...,  78.,  77.,  79.],\n",
       "           ...,\n",
       "           [ 95.,  94.,  98.,  ...,  93.,  90.,  92.],\n",
       "           [ 97.,  97.,  98.,  ...,  93.,  95.,  94.],\n",
       "           [ 96.,  96.,  98.,  ...,  92.,  95.,  93.]],\n",
       " \n",
       "          [[ 83.,  83.,  84.,  ...,  99.,  90.,  85.],\n",
       "           [ 83.,  83.,  84.,  ..., 100.,  90.,  85.],\n",
       "           [ 83.,  83.,  83.,  ...,  90.,  91.,  93.],\n",
       "           ...,\n",
       "           [ 89.,  89.,  91.,  ..., 101.,  98., 100.],\n",
       "           [ 89.,  89.,  89.,  ..., 102., 103., 102.],\n",
       "           [ 86.,  86.,  89.,  ..., 101., 103., 101.]]]]),\n",
       " tensor([7, 5, 5, 7, 5, 7, 9, 6, 7, 4, 3, 7, 0, 9, 1, 1, 0, 1, 7, 0, 5, 1, 1, 9,\n",
       "         0, 9, 1, 2, 1, 1, 4, 8])]"
      ]
     },
     "execution_count": 9,
     "metadata": {},
     "output_type": "execute_result"
    }
   ],
   "source": [
    "batch"
   ]
  },
  {
   "cell_type": "markdown",
   "id": "74ec5320-4378-4cb4-a0d4-8bbaaf22e134",
   "metadata": {},
   "source": [
    "---"
   ]
  },
  {
   "cell_type": "markdown",
   "id": "8f94e7d5-36c7-4cd1-b521-62a03048c607",
   "metadata": {},
   "source": [
    "### Model Classes"
   ]
  },
  {
   "cell_type": "code",
   "execution_count": 13,
   "id": "125aebe0-e98a-4f5d-a323-2c89980c8dac",
   "metadata": {},
   "outputs": [],
   "source": [
    "class SinePositionEmbedding(pl.LightningModule):\n",
    "    def __init__(self,\n",
    "                 max_wavelength=10000.0,\n",
    "                 **kwargs):\n",
    "        super().__init__(**kwargs)\n",
    "        self.max_wavelength = torch.Tensor([max_wavelength])\n",
    "\n",
    "    def forward(self, x):\n",
    "        input_shape = x.shape\n",
    "        seq_length = x.shape[-2]\n",
    "        hidden_size = x.shape[-1]\n",
    "        position = torch.arange(seq_length).type_as(x)\n",
    "        min_freq = (1 / self.max_wavelength).type_as(x)\n",
    "        timescales = torch.pow(\n",
    "            min_freq,\n",
    "            (2 * (torch.arange(hidden_size) // 2)).type_as(x)\n",
    "            / torch.Tensor([hidden_size]).type_as(x)\n",
    "        )\n",
    "        angles = torch.unsqueeze(position, 1) * torch.unsqueeze(timescales, 0)\n",
    "        cos_mask = (torch.arange(hidden_size) % 2).type_as(x)\n",
    "        sin_mask = 1 - cos_mask\n",
    "        positional_encodings = (\n",
    "            torch.sin(angles) * sin_mask + torch.cos(angles) * cos_mask\n",
    "        )\n",
    "        return torch.broadcast_to(positional_encodings, input_shape)"
   ]
  },
  {
   "cell_type": "code",
   "execution_count": 14,
   "id": "78a22a46-a043-4b75-99c9-aad6909166a2",
   "metadata": {},
   "outputs": [],
   "source": [
    "class MLP(pl.LightningModule):\n",
    "    def __init__(self,\n",
    "                 latent_size = 64,\n",
    "                 dropout = 0.1,\n",
    "                 **kwargs):\n",
    "        super().__init__(**kwargs)\n",
    "        self.linear1 = torch.nn.Linear(latent_size,\n",
    "                                       latent_size)\n",
    "        self.activation = torch.nn.GELU()\n",
    "        self.linear2 = torch.nn.Linear(latent_size,\n",
    "                                       latent_size)\n",
    "        self.dropout = torch.nn.Dropout(dropout)\n",
    "\n",
    "    def forward(self, x):\n",
    "        x = self.linear1(x)\n",
    "        x = self.activation(x)\n",
    "        x = self.dropout(x)\n",
    "        x = self.linear2(x)\n",
    "        x = self.dropout(x)\n",
    "        return x"
   ]
  },
  {
   "cell_type": "code",
   "execution_count": 15,
   "id": "0f2bab0d-06c0-43b2-8c9f-fe30ba074131",
   "metadata": {},
   "outputs": [],
   "source": [
    "class TransformerBlock(pl.LightningModule):\n",
    "    def __init__(self,\n",
    "                 latent_size = 64,\n",
    "                 num_heads = 4,\n",
    "                 dropout = 0.1,\n",
    "                 **kwargs):\n",
    "        super().__init__(**kwargs)\n",
    "        self.layer_norm1 = torch.nn.LayerNorm(latent_size)\n",
    "        self.layer_norm2 = torch.nn.LayerNorm(latent_size)\n",
    "        self.dropout = torch.nn.Dropout(dropout)\n",
    "        self.activation = torch.nn.GELU()\n",
    "        self.linear = torch.nn.Linear(latent_size,\n",
    "                                      latent_size)\n",
    "        self.mha = torch.nn.MultiheadAttention(latent_size,\n",
    "                                               num_heads,\n",
    "                                               dropout=dropout,\n",
    "                                               batch_first=True)\n",
    "        self.mlp = MLP(latent_size,\n",
    "                       dropout=dropout)\n",
    "    def forward(self, x):\n",
    "        y = x\n",
    "        y = self.layer_norm1(y)\n",
    "        y = self.mha(y,y,y)[0]\n",
    "        x = y = x + y\n",
    "        y = self.layer_norm2(y)\n",
    "        # y = self.linear(y) # Will probably replace this with an MLP block??\n",
    "        y = self.mlp(y)\n",
    "        y = self.dropout(y)\n",
    "        y = self.activation(y)\n",
    "        return x + y"
   ]
  },
  {
   "cell_type": "code",
   "execution_count": 16,
   "id": "73944b16-732c-4e70-8f7e-1c112c0cc576",
   "metadata": {},
   "outputs": [],
   "source": [
    "class LightningBoilerplate(pl.LightningModule):\n",
    "    def __init__(self, **kwargs):\n",
    "        super().__init__(**kwargs)\n",
    "        \n",
    "    def predict_step(self, predict_batch, batch_idx):\n",
    "        x, y_true = predict_batch\n",
    "        y_pred = self.predict(x)\n",
    "        return y_pred, y_true\n",
    "\n",
    "    def training_step(self, train_batch, batch_idx):\n",
    "        x, y_true = train_batch\n",
    "        y_pred = self(x)\n",
    "        for metric_name, metric_function in self.network_metrics.items():\n",
    "            metric_value = metric_function(y_pred,y_true)\n",
    "            self.log('train_'+metric_name, metric_value, on_step=False, on_epoch=True)\n",
    "        loss = self.network_loss(y_pred,y_true)\n",
    "        self.log('train_loss', loss, on_step=False, on_epoch=True)\n",
    "        return loss\n",
    "        \n",
    "    def validation_step(self, val_batch, batch_idx):\n",
    "        x, y_true = val_batch\n",
    "        y_pred = self(x)\n",
    "        for metric_name, metric_function in self.network_metrics.items():\n",
    "            metric_value = metric_function(y_pred,y_true)\n",
    "            self.log('val_'+metric_name, metric_value, on_step=False, on_epoch=True)\n",
    "        loss = self.network_loss(y_pred,y_true)\n",
    "        self.log('val_loss', loss, on_step=False, on_epoch=True)\n",
    "        return loss\n",
    "        \n",
    "    def test_step(self, test_batch, batch_idx):\n",
    "        x, y_true = test_batch\n",
    "        y_pred = self(x)\n",
    "        for metric_name, metric_function in self.network_metrics.items():\n",
    "            metric_value = metric_function(y_pred,y_true)\n",
    "            self.log('test_'+metric_name, metric_value, on_step=False, on_epoch=True)\n",
    "        loss = self.network_loss(y_pred,y_true)\n",
    "        self.log('test_loss', loss, on_step=False, on_epoch=True)\n",
    "        return loss"
   ]
  },
  {
   "cell_type": "code",
   "execution_count": 17,
   "id": "144ed248-4f64-4b96-abb4-fd4728f91357",
   "metadata": {},
   "outputs": [],
   "source": [
    "# Attach loss, metrics, and optimizer\n",
    "class MultiClassLightningModule(LightningBoilerplate):\n",
    "    def __init__(self,\n",
    "                 num_classes,\n",
    "                 **kwargs):\n",
    "        super().__init__(**kwargs)\n",
    "\n",
    "        self.network_metrics = torch.nn.ModuleDict({\n",
    "            'acc': torchmetrics.classification.Accuracy(task='multiclass',\n",
    "                                                        num_classes=num_classes)\n",
    "        })\n",
    "\n",
    "        self.network_loss = torch.nn.CrossEntropyLoss()\n",
    "\n",
    "    def configure_optimizers(self):\n",
    "        optimizer = torch.optim.Adam(self.parameters(), lr=0.001)\n",
    "        return optimizer"
   ]
  },
  {
   "cell_type": "code",
   "execution_count": 18,
   "id": "b23951ec-f4a6-4ef1-9f16-9231a59c70f5",
   "metadata": {},
   "outputs": [],
   "source": [
    "# Attach standardization and augmentation\n",
    "class StandardizeTransformModule(MultiClassLightningModule):\n",
    "    def __init__(self,**kwargs):\n",
    "        super().__init__(**kwargs)\n",
    "        \n",
    "        self.standardize = torchvision.transforms.Compose([\n",
    "            torchvision.transforms.Resize([256]),\n",
    "            torchvision.transforms.CenterCrop([224]),\n",
    "            torchvision.transforms.Lambda(lambda x: x / 255.0),\n",
    "            torchvision.transforms.Normalize(mean = [0.485, 0.456, 0.406],\n",
    "                                             std = [0.229, 0.224, 0.225]),\n",
    "        ])\n",
    "\n",
    "        self.transform = torchvision.transforms.Compose([\n",
    "            torchvision.transforms.RandomAffine(degrees=(-180.0, 180.0),\n",
    "                                                translate=(0.1, 0.1),\n",
    "                                                scale=(0.9, 1.1),\n",
    "                                                shear=(-10.0, 10.0))#,\n",
    "        ])\n",
    "\n",
    "    def forward(self, x):\n",
    "        y = x\n",
    "        y = self.standardize(y)\n",
    "        if self.training:\n",
    "            y = self.transform(y)\n",
    "        return y"
   ]
  },
  {
   "cell_type": "code",
   "execution_count": 19,
   "id": "11d7499b-50f9-425d-b012-d146bc7eab88",
   "metadata": {},
   "outputs": [],
   "source": [
    "class ViTNetwork(StandardizeTransformModule):\n",
    "    def __init__(self,\n",
    "                 input_shape,\n",
    "                 patch_shape,\n",
    "                 stride_size,\n",
    "                 output_size,\n",
    "                 latent_size = 64,\n",
    "                 num_heads = 4,\n",
    "                 n_layers = 4,\n",
    "                 **kwargs):\n",
    "        super().__init__(num_classes=output_size,**kwargs)\n",
    "        self.save_hyperparameters()\n",
    "\n",
    "        # self.normalize = torchvision.transforms.Compose([\n",
    "        #     torchvision.transforms.Lambda(lambda x: x / 255.0),\n",
    "        #     torchvision.transforms.Normalize(mean = [0.485, 0.456, 0.406],\n",
    "        #                                      std = [0.229, 0.224, 0.225]),\n",
    "        # ])\n",
    "        # self.transform = torchvision.transforms.Compose([\n",
    "        #     torchvision.transforms.RandomAffine(degrees=(-180.0, 180.0),\n",
    "        #                                         translate=(0.1, 0.1),\n",
    "        #                                         scale=(0.9, 1.1),\n",
    "        #                                         shear=(-10.0, 10.0))#,\n",
    "        # ])\n",
    "        \n",
    "        self.patches = torch.nn.Conv2d(input_shape[1],\n",
    "                                       latent_size,\n",
    "                                       patch_shape,\n",
    "                                       stride_size,\n",
    "                                       bias=False)\n",
    "        \n",
    "        self.position_embedding = SinePositionEmbedding()\n",
    "        self.transformer_blocks = torch.nn.Sequential(*[\n",
    "            TransformerBlock(latent_size=latent_size,\n",
    "                             num_heads=num_heads) for _ in range(n_layers)\n",
    "        ])\n",
    "        self.pooling = torch.nn.AdaptiveAvgPool1d(1)\n",
    "        self.linear = torch.nn.Linear(latent_size,\n",
    "                                      output_size)\n",
    "        \n",
    "    def forward(self, x):\n",
    "        y = x\n",
    "        y = super().forward(y)\n",
    "        y = self.patches(y)\n",
    "        y = y.reshape(y.shape[0:2] + (-1,)).permute(0,2,1)\n",
    "        y = y + self.position_embedding(y)\n",
    "        y = self.transformer_blocks(y).permute(0,2,1)\n",
    "        y = self.pooling(y).squeeze()\n",
    "        y = self.linear(y)\n",
    "        return y    "
   ]
  },
  {
   "cell_type": "code",
   "execution_count": 20,
   "id": "d9e01174-0dc0-49cf-8488-f7b608d8a00d",
   "metadata": {},
   "outputs": [
    {
     "data": {
      "text/plain": [
       "10"
      ]
     },
     "execution_count": 20,
     "metadata": {},
     "output_type": "execute_result"
    }
   ],
   "source": [
    "data_module.output_shape[0]"
   ]
  },
  {
   "cell_type": "code",
   "execution_count": 21,
   "id": "621abfbc-9013-422e-9a43-2dedf52193d6",
   "metadata": {},
   "outputs": [
    {
     "data": {
      "text/plain": [
       "torch.Size([32, 3, 64, 64])"
      ]
     },
     "execution_count": 21,
     "metadata": {},
     "output_type": "execute_result"
    }
   ],
   "source": [
    "batch[0].shape"
   ]
  },
  {
   "cell_type": "code",
   "execution_count": 22,
   "id": "a2de5c66-28ac-4608-a75d-eba676f194b0",
   "metadata": {},
   "outputs": [
    {
     "data": {
      "text/plain": [
       "==========================================================================================\n",
       "Layer (type:depth-idx)                   Output Shape              Param #\n",
       "==========================================================================================\n",
       "ViTNetwork                               [32, 10]                  --\n",
       "├─Conv2d: 1-1                            [32, 256, 27, 27]         196,608\n",
       "├─SinePositionEmbedding: 1-2             [32, 729, 256]            --\n",
       "├─Sequential: 1-3                        [32, 729, 256]            --\n",
       "│    └─TransformerBlock: 2-1             [32, 729, 256]            65,792\n",
       "│    │    └─LayerNorm: 3-1               [32, 729, 256]            512\n",
       "│    │    └─MultiheadAttention: 3-2      [32, 729, 256]            263,168\n",
       "│    │    └─LayerNorm: 3-3               [32, 729, 256]            512\n",
       "│    │    └─MLP: 3-4                     [32, 729, 256]            131,584\n",
       "│    │    └─Dropout: 3-5                 [32, 729, 256]            --\n",
       "│    │    └─GELU: 3-6                    [32, 729, 256]            --\n",
       "│    └─TransformerBlock: 2-2             [32, 729, 256]            65,792\n",
       "│    │    └─LayerNorm: 3-7               [32, 729, 256]            512\n",
       "│    │    └─MultiheadAttention: 3-8      [32, 729, 256]            263,168\n",
       "│    │    └─LayerNorm: 3-9               [32, 729, 256]            512\n",
       "│    │    └─MLP: 3-10                    [32, 729, 256]            131,584\n",
       "│    │    └─Dropout: 3-11                [32, 729, 256]            --\n",
       "│    │    └─GELU: 3-12                   [32, 729, 256]            --\n",
       "│    └─TransformerBlock: 2-3             [32, 729, 256]            65,792\n",
       "│    │    └─LayerNorm: 3-13              [32, 729, 256]            512\n",
       "│    │    └─MultiheadAttention: 3-14     [32, 729, 256]            263,168\n",
       "│    │    └─LayerNorm: 3-15              [32, 729, 256]            512\n",
       "│    │    └─MLP: 3-16                    [32, 729, 256]            131,584\n",
       "│    │    └─Dropout: 3-17                [32, 729, 256]            --\n",
       "│    │    └─GELU: 3-18                   [32, 729, 256]            --\n",
       "│    └─TransformerBlock: 2-4             [32, 729, 256]            65,792\n",
       "│    │    └─LayerNorm: 3-19              [32, 729, 256]            512\n",
       "│    │    └─MultiheadAttention: 3-20     [32, 729, 256]            263,168\n",
       "│    │    └─LayerNorm: 3-21              [32, 729, 256]            512\n",
       "│    │    └─MLP: 3-22                    [32, 729, 256]            131,584\n",
       "│    │    └─Dropout: 3-23                [32, 729, 256]            --\n",
       "│    │    └─GELU: 3-24                   [32, 729, 256]            --\n",
       "│    └─TransformerBlock: 2-5             [32, 729, 256]            65,792\n",
       "│    │    └─LayerNorm: 3-25              [32, 729, 256]            512\n",
       "│    │    └─MultiheadAttention: 3-26     [32, 729, 256]            263,168\n",
       "│    │    └─LayerNorm: 3-27              [32, 729, 256]            512\n",
       "│    │    └─MLP: 3-28                    [32, 729, 256]            131,584\n",
       "│    │    └─Dropout: 3-29                [32, 729, 256]            --\n",
       "│    │    └─GELU: 3-30                   [32, 729, 256]            --\n",
       "│    └─TransformerBlock: 2-6             [32, 729, 256]            65,792\n",
       "│    │    └─LayerNorm: 3-31              [32, 729, 256]            512\n",
       "│    │    └─MultiheadAttention: 3-32     [32, 729, 256]            263,168\n",
       "│    │    └─LayerNorm: 3-33              [32, 729, 256]            512\n",
       "│    │    └─MLP: 3-34                    [32, 729, 256]            131,584\n",
       "│    │    └─Dropout: 3-35                [32, 729, 256]            --\n",
       "│    │    └─GELU: 3-36                   [32, 729, 256]            --\n",
       "├─AdaptiveAvgPool1d: 1-4                 [32, 256, 1]              --\n",
       "├─Linear: 1-5                            [32, 10]                  2,570\n",
       "==========================================================================================\n",
       "Total params: 2,968,586\n",
       "Trainable params: 2,968,586\n",
       "Non-trainable params: 0\n",
       "Total mult-adds (Units.GIGABYTES): 4.61\n",
       "==========================================================================================\n",
       "Input size (MB): 1.57\n",
       "Forward/backward pass size (MB): 1194.40\n",
       "Params size (MB): 3.98\n",
       "Estimated Total Size (MB): 1199.95\n",
       "=========================================================================================="
      ]
     },
     "execution_count": 22,
     "metadata": {},
     "output_type": "execute_result"
    }
   ],
   "source": [
    "vit_net = ViTNetwork(input_shape=batch[0].shape,\n",
    "                     patch_shape=(16,16),\n",
    "                     stride_size=(8,8),\n",
    "                     output_size=data_module.output_shape[0],\n",
    "                     latent_size=256,\n",
    "                     n_layers=6)\n",
    "summary(vit_net,input_size=batch[0].shape)"
   ]
  },
  {
   "cell_type": "code",
   "execution_count": null,
   "id": "d6adfcbe-774a-4974-ae84-5c258c07c395",
   "metadata": {},
   "outputs": [],
   "source": []
  },
  {
   "cell_type": "code",
   "execution_count": 23,
   "id": "1e055b2b-edde-49b7-81c9-8be4a2843948",
   "metadata": {},
   "outputs": [],
   "source": [
    "logger = pl.loggers.CSVLogger(\"logs\",\n",
    "                              name=\"VIT-EuroSAT\",\n",
    "                              version=\"vit-eurosat\")"
   ]
  },
  {
   "cell_type": "code",
   "execution_count": 24,
   "id": "9006bf05-fc13-4899-aae0-22191939d114",
   "metadata": {},
   "outputs": [
    {
     "name": "stderr",
     "output_type": "stream",
     "text": [
      "GPU available: True (mps), used: True\n",
      "TPU available: False, using: 0 TPU cores\n",
      "HPU available: False, using: 0 HPUs\n"
     ]
    }
   ],
   "source": [
    "trainer = pl.Trainer(logger=logger,\n",
    "                     max_epochs=5,\n",
    "                     enable_progress_bar=True,\n",
    "                     log_every_n_steps=0,\n",
    "                     enable_checkpointing=True,\n",
    "                     callbacks=[pl.callbacks.TQDMProgressBar(refresh_rate=50)])"
   ]
  },
  {
   "cell_type": "code",
   "execution_count": 27,
   "id": "df79d40c",
   "metadata": {},
   "outputs": [],
   "source": [
    "os.environ['PYTORCH_ENABLE_MPS_FALLBACK'] = '1'"
   ]
  },
  {
   "cell_type": "code",
   "execution_count": 29,
   "id": "abd5c275-a96b-4930-a8fa-b56705785acc",
   "metadata": {},
   "outputs": [
    {
     "name": "stdout",
     "output_type": "stream",
     "text": [
      "Validation: |          | 0/? [00:24<?, ?it/s]\n"
     ]
    },
    {
     "ename": "NotImplementedError",
     "evalue": "The operator 'aten::_upsample_bilinear2d_aa.out' is not currently implemented for the MPS device. If you want this op to be added in priority during the prototype phase of this feature, please comment on https://github.com/pytorch/pytorch/issues/77764. As a temporary fix, you can set the environment variable `PYTORCH_ENABLE_MPS_FALLBACK=1` to use the CPU as a fallback for this op. WARNING: this will be slower than running natively on MPS.",
     "output_type": "error",
     "traceback": [
      "\u001b[0;31m---------------------------------------------------------------------------\u001b[0m",
      "\u001b[0;31mNotImplementedError\u001b[0m                       Traceback (most recent call last)",
      "Cell \u001b[0;32mIn[29], line 2\u001b[0m\n\u001b[1;32m      1\u001b[0m os\u001b[38;5;241m.\u001b[39menviron[\u001b[38;5;124m'\u001b[39m\u001b[38;5;124mPYTORCH_ENABLE_MPS_FALLBACK\u001b[39m\u001b[38;5;124m'\u001b[39m] \u001b[38;5;241m=\u001b[39m \u001b[38;5;124m'\u001b[39m\u001b[38;5;124m1\u001b[39m\u001b[38;5;124m'\u001b[39m\n\u001b[0;32m----> 2\u001b[0m \u001b[43mtrainer\u001b[49m\u001b[38;5;241;43m.\u001b[39;49m\u001b[43mvalidate\u001b[49m\u001b[43m(\u001b[49m\u001b[43mvit_net\u001b[49m\u001b[43m,\u001b[49m\u001b[43m \u001b[49m\u001b[43mdata_module\u001b[49m\u001b[43m)\u001b[49m\n",
      "File \u001b[0;32m~/CSCI/CSCI-7850/csci7850-project/.venv/lib/python3.12/site-packages/lightning/pytorch/trainer/trainer.py:639\u001b[0m, in \u001b[0;36mTrainer.validate\u001b[0;34m(self, model, dataloaders, ckpt_path, verbose, datamodule)\u001b[0m\n\u001b[1;32m    637\u001b[0m \u001b[38;5;28mself\u001b[39m\u001b[38;5;241m.\u001b[39mstate\u001b[38;5;241m.\u001b[39mstatus \u001b[38;5;241m=\u001b[39m TrainerStatus\u001b[38;5;241m.\u001b[39mRUNNING\n\u001b[1;32m    638\u001b[0m \u001b[38;5;28mself\u001b[39m\u001b[38;5;241m.\u001b[39mvalidating \u001b[38;5;241m=\u001b[39m \u001b[38;5;28;01mTrue\u001b[39;00m\n\u001b[0;32m--> 639\u001b[0m \u001b[38;5;28;01mreturn\u001b[39;00m \u001b[43mcall\u001b[49m\u001b[38;5;241;43m.\u001b[39;49m\u001b[43m_call_and_handle_interrupt\u001b[49m\u001b[43m(\u001b[49m\n\u001b[1;32m    640\u001b[0m \u001b[43m    \u001b[49m\u001b[38;5;28;43mself\u001b[39;49m\u001b[43m,\u001b[49m\u001b[43m \u001b[49m\u001b[38;5;28;43mself\u001b[39;49m\u001b[38;5;241;43m.\u001b[39;49m\u001b[43m_validate_impl\u001b[49m\u001b[43m,\u001b[49m\u001b[43m \u001b[49m\u001b[43mmodel\u001b[49m\u001b[43m,\u001b[49m\u001b[43m \u001b[49m\u001b[43mdataloaders\u001b[49m\u001b[43m,\u001b[49m\u001b[43m \u001b[49m\u001b[43mckpt_path\u001b[49m\u001b[43m,\u001b[49m\u001b[43m \u001b[49m\u001b[43mverbose\u001b[49m\u001b[43m,\u001b[49m\u001b[43m \u001b[49m\u001b[43mdatamodule\u001b[49m\n\u001b[1;32m    641\u001b[0m \u001b[43m\u001b[49m\u001b[43m)\u001b[49m\n",
      "File \u001b[0;32m~/CSCI/CSCI-7850/csci7850-project/.venv/lib/python3.12/site-packages/lightning/pytorch/trainer/call.py:47\u001b[0m, in \u001b[0;36m_call_and_handle_interrupt\u001b[0;34m(trainer, trainer_fn, *args, **kwargs)\u001b[0m\n\u001b[1;32m     45\u001b[0m     \u001b[38;5;28;01mif\u001b[39;00m trainer\u001b[38;5;241m.\u001b[39mstrategy\u001b[38;5;241m.\u001b[39mlauncher \u001b[38;5;129;01mis\u001b[39;00m \u001b[38;5;129;01mnot\u001b[39;00m \u001b[38;5;28;01mNone\u001b[39;00m:\n\u001b[1;32m     46\u001b[0m         \u001b[38;5;28;01mreturn\u001b[39;00m trainer\u001b[38;5;241m.\u001b[39mstrategy\u001b[38;5;241m.\u001b[39mlauncher\u001b[38;5;241m.\u001b[39mlaunch(trainer_fn, \u001b[38;5;241m*\u001b[39margs, trainer\u001b[38;5;241m=\u001b[39mtrainer, \u001b[38;5;241m*\u001b[39m\u001b[38;5;241m*\u001b[39mkwargs)\n\u001b[0;32m---> 47\u001b[0m     \u001b[38;5;28;01mreturn\u001b[39;00m \u001b[43mtrainer_fn\u001b[49m\u001b[43m(\u001b[49m\u001b[38;5;241;43m*\u001b[39;49m\u001b[43margs\u001b[49m\u001b[43m,\u001b[49m\u001b[43m \u001b[49m\u001b[38;5;241;43m*\u001b[39;49m\u001b[38;5;241;43m*\u001b[39;49m\u001b[43mkwargs\u001b[49m\u001b[43m)\u001b[49m\n\u001b[1;32m     49\u001b[0m \u001b[38;5;28;01mexcept\u001b[39;00m _TunerExitException:\n\u001b[1;32m     50\u001b[0m     _call_teardown_hook(trainer)\n",
      "File \u001b[0;32m~/CSCI/CSCI-7850/csci7850-project/.venv/lib/python3.12/site-packages/lightning/pytorch/trainer/trainer.py:679\u001b[0m, in \u001b[0;36mTrainer._validate_impl\u001b[0;34m(self, model, dataloaders, ckpt_path, verbose, datamodule)\u001b[0m\n\u001b[1;32m    675\u001b[0m \u001b[38;5;28;01massert\u001b[39;00m \u001b[38;5;28mself\u001b[39m\u001b[38;5;241m.\u001b[39mstate\u001b[38;5;241m.\u001b[39mfn \u001b[38;5;129;01mis\u001b[39;00m \u001b[38;5;129;01mnot\u001b[39;00m \u001b[38;5;28;01mNone\u001b[39;00m\n\u001b[1;32m    676\u001b[0m ckpt_path \u001b[38;5;241m=\u001b[39m \u001b[38;5;28mself\u001b[39m\u001b[38;5;241m.\u001b[39m_checkpoint_connector\u001b[38;5;241m.\u001b[39m_select_ckpt_path(\n\u001b[1;32m    677\u001b[0m     \u001b[38;5;28mself\u001b[39m\u001b[38;5;241m.\u001b[39mstate\u001b[38;5;241m.\u001b[39mfn, ckpt_path, model_provided\u001b[38;5;241m=\u001b[39mmodel_provided, model_connected\u001b[38;5;241m=\u001b[39m\u001b[38;5;28mself\u001b[39m\u001b[38;5;241m.\u001b[39mlightning_module \u001b[38;5;129;01mis\u001b[39;00m \u001b[38;5;129;01mnot\u001b[39;00m \u001b[38;5;28;01mNone\u001b[39;00m\n\u001b[1;32m    678\u001b[0m )\n\u001b[0;32m--> 679\u001b[0m results \u001b[38;5;241m=\u001b[39m \u001b[38;5;28;43mself\u001b[39;49m\u001b[38;5;241;43m.\u001b[39;49m\u001b[43m_run\u001b[49m\u001b[43m(\u001b[49m\u001b[43mmodel\u001b[49m\u001b[43m,\u001b[49m\u001b[43m \u001b[49m\u001b[43mckpt_path\u001b[49m\u001b[38;5;241;43m=\u001b[39;49m\u001b[43mckpt_path\u001b[49m\u001b[43m)\u001b[49m\n\u001b[1;32m    680\u001b[0m \u001b[38;5;66;03m# remove the tensors from the validation results\u001b[39;00m\n\u001b[1;32m    681\u001b[0m results \u001b[38;5;241m=\u001b[39m convert_tensors_to_scalars(results)\n",
      "File \u001b[0;32m~/CSCI/CSCI-7850/csci7850-project/.venv/lib/python3.12/site-packages/lightning/pytorch/trainer/trainer.py:981\u001b[0m, in \u001b[0;36mTrainer._run\u001b[0;34m(self, model, ckpt_path)\u001b[0m\n\u001b[1;32m    976\u001b[0m \u001b[38;5;28mself\u001b[39m\u001b[38;5;241m.\u001b[39m_signal_connector\u001b[38;5;241m.\u001b[39mregister_signal_handlers()\n\u001b[1;32m    978\u001b[0m \u001b[38;5;66;03m# ----------------------------\u001b[39;00m\n\u001b[1;32m    979\u001b[0m \u001b[38;5;66;03m# RUN THE TRAINER\u001b[39;00m\n\u001b[1;32m    980\u001b[0m \u001b[38;5;66;03m# ----------------------------\u001b[39;00m\n\u001b[0;32m--> 981\u001b[0m results \u001b[38;5;241m=\u001b[39m \u001b[38;5;28;43mself\u001b[39;49m\u001b[38;5;241;43m.\u001b[39;49m\u001b[43m_run_stage\u001b[49m\u001b[43m(\u001b[49m\u001b[43m)\u001b[49m\n\u001b[1;32m    983\u001b[0m \u001b[38;5;66;03m# ----------------------------\u001b[39;00m\n\u001b[1;32m    984\u001b[0m \u001b[38;5;66;03m# POST-Training CLEAN UP\u001b[39;00m\n\u001b[1;32m    985\u001b[0m \u001b[38;5;66;03m# ----------------------------\u001b[39;00m\n\u001b[1;32m    986\u001b[0m log\u001b[38;5;241m.\u001b[39mdebug(\u001b[38;5;124mf\u001b[39m\u001b[38;5;124m\"\u001b[39m\u001b[38;5;132;01m{\u001b[39;00m\u001b[38;5;28mself\u001b[39m\u001b[38;5;241m.\u001b[39m\u001b[38;5;18m__class__\u001b[39m\u001b[38;5;241m.\u001b[39m\u001b[38;5;18m__name__\u001b[39m\u001b[38;5;132;01m}\u001b[39;00m\u001b[38;5;124m: trainer tearing down\u001b[39m\u001b[38;5;124m\"\u001b[39m)\n",
      "File \u001b[0;32m~/CSCI/CSCI-7850/csci7850-project/.venv/lib/python3.12/site-packages/lightning/pytorch/trainer/trainer.py:1018\u001b[0m, in \u001b[0;36mTrainer._run_stage\u001b[0;34m(self)\u001b[0m\n\u001b[1;32m   1015\u001b[0m \u001b[38;5;28mself\u001b[39m\u001b[38;5;241m.\u001b[39mlightning_module\u001b[38;5;241m.\u001b[39mzero_grad()\n\u001b[1;32m   1017\u001b[0m \u001b[38;5;28;01mif\u001b[39;00m \u001b[38;5;28mself\u001b[39m\u001b[38;5;241m.\u001b[39mevaluating:\n\u001b[0;32m-> 1018\u001b[0m     \u001b[38;5;28;01mreturn\u001b[39;00m \u001b[38;5;28;43mself\u001b[39;49m\u001b[38;5;241;43m.\u001b[39;49m\u001b[43m_evaluation_loop\u001b[49m\u001b[38;5;241;43m.\u001b[39;49m\u001b[43mrun\u001b[49m\u001b[43m(\u001b[49m\u001b[43m)\u001b[49m\n\u001b[1;32m   1019\u001b[0m \u001b[38;5;28;01mif\u001b[39;00m \u001b[38;5;28mself\u001b[39m\u001b[38;5;241m.\u001b[39mpredicting:\n\u001b[1;32m   1020\u001b[0m     \u001b[38;5;28;01mreturn\u001b[39;00m \u001b[38;5;28mself\u001b[39m\u001b[38;5;241m.\u001b[39mpredict_loop\u001b[38;5;241m.\u001b[39mrun()\n",
      "File \u001b[0;32m~/CSCI/CSCI-7850/csci7850-project/.venv/lib/python3.12/site-packages/lightning/pytorch/loops/utilities.py:178\u001b[0m, in \u001b[0;36m_no_grad_context.<locals>._decorator\u001b[0;34m(self, *args, **kwargs)\u001b[0m\n\u001b[1;32m    176\u001b[0m     context_manager \u001b[38;5;241m=\u001b[39m torch\u001b[38;5;241m.\u001b[39mno_grad\n\u001b[1;32m    177\u001b[0m \u001b[38;5;28;01mwith\u001b[39;00m context_manager():\n\u001b[0;32m--> 178\u001b[0m     \u001b[38;5;28;01mreturn\u001b[39;00m \u001b[43mloop_run\u001b[49m\u001b[43m(\u001b[49m\u001b[38;5;28;43mself\u001b[39;49m\u001b[43m,\u001b[49m\u001b[43m \u001b[49m\u001b[38;5;241;43m*\u001b[39;49m\u001b[43margs\u001b[49m\u001b[43m,\u001b[49m\u001b[43m \u001b[49m\u001b[38;5;241;43m*\u001b[39;49m\u001b[38;5;241;43m*\u001b[39;49m\u001b[43mkwargs\u001b[49m\u001b[43m)\u001b[49m\n",
      "File \u001b[0;32m~/CSCI/CSCI-7850/csci7850-project/.venv/lib/python3.12/site-packages/lightning/pytorch/loops/evaluation_loop.py:135\u001b[0m, in \u001b[0;36m_EvaluationLoop.run\u001b[0;34m(self)\u001b[0m\n\u001b[1;32m    133\u001b[0m     \u001b[38;5;28mself\u001b[39m\u001b[38;5;241m.\u001b[39mbatch_progress\u001b[38;5;241m.\u001b[39mis_last_batch \u001b[38;5;241m=\u001b[39m data_fetcher\u001b[38;5;241m.\u001b[39mdone\n\u001b[1;32m    134\u001b[0m     \u001b[38;5;66;03m# run step hooks\u001b[39;00m\n\u001b[0;32m--> 135\u001b[0m     \u001b[38;5;28;43mself\u001b[39;49m\u001b[38;5;241;43m.\u001b[39;49m\u001b[43m_evaluation_step\u001b[49m\u001b[43m(\u001b[49m\u001b[43mbatch\u001b[49m\u001b[43m,\u001b[49m\u001b[43m \u001b[49m\u001b[43mbatch_idx\u001b[49m\u001b[43m,\u001b[49m\u001b[43m \u001b[49m\u001b[43mdataloader_idx\u001b[49m\u001b[43m,\u001b[49m\u001b[43m \u001b[49m\u001b[43mdataloader_iter\u001b[49m\u001b[43m)\u001b[49m\n\u001b[1;32m    136\u001b[0m \u001b[38;5;28;01mexcept\u001b[39;00m \u001b[38;5;167;01mStopIteration\u001b[39;00m:\n\u001b[1;32m    137\u001b[0m     \u001b[38;5;66;03m# this needs to wrap the `*_step` call too (not just `next`) for `dataloader_iter` support\u001b[39;00m\n\u001b[1;32m    138\u001b[0m     \u001b[38;5;28;01mbreak\u001b[39;00m\n",
      "File \u001b[0;32m~/CSCI/CSCI-7850/csci7850-project/.venv/lib/python3.12/site-packages/lightning/pytorch/loops/evaluation_loop.py:396\u001b[0m, in \u001b[0;36m_EvaluationLoop._evaluation_step\u001b[0;34m(self, batch, batch_idx, dataloader_idx, dataloader_iter)\u001b[0m\n\u001b[1;32m    390\u001b[0m hook_name \u001b[38;5;241m=\u001b[39m \u001b[38;5;124m\"\u001b[39m\u001b[38;5;124mtest_step\u001b[39m\u001b[38;5;124m\"\u001b[39m \u001b[38;5;28;01mif\u001b[39;00m trainer\u001b[38;5;241m.\u001b[39mtesting \u001b[38;5;28;01melse\u001b[39;00m \u001b[38;5;124m\"\u001b[39m\u001b[38;5;124mvalidation_step\u001b[39m\u001b[38;5;124m\"\u001b[39m\n\u001b[1;32m    391\u001b[0m step_args \u001b[38;5;241m=\u001b[39m (\n\u001b[1;32m    392\u001b[0m     \u001b[38;5;28mself\u001b[39m\u001b[38;5;241m.\u001b[39m_build_step_args_from_hook_kwargs(hook_kwargs, hook_name)\n\u001b[1;32m    393\u001b[0m     \u001b[38;5;28;01mif\u001b[39;00m \u001b[38;5;129;01mnot\u001b[39;00m using_dataloader_iter\n\u001b[1;32m    394\u001b[0m     \u001b[38;5;28;01melse\u001b[39;00m (dataloader_iter,)\n\u001b[1;32m    395\u001b[0m )\n\u001b[0;32m--> 396\u001b[0m output \u001b[38;5;241m=\u001b[39m \u001b[43mcall\u001b[49m\u001b[38;5;241;43m.\u001b[39;49m\u001b[43m_call_strategy_hook\u001b[49m\u001b[43m(\u001b[49m\u001b[43mtrainer\u001b[49m\u001b[43m,\u001b[49m\u001b[43m \u001b[49m\u001b[43mhook_name\u001b[49m\u001b[43m,\u001b[49m\u001b[43m \u001b[49m\u001b[38;5;241;43m*\u001b[39;49m\u001b[43mstep_args\u001b[49m\u001b[43m)\u001b[49m\n\u001b[1;32m    398\u001b[0m \u001b[38;5;28mself\u001b[39m\u001b[38;5;241m.\u001b[39mbatch_progress\u001b[38;5;241m.\u001b[39mincrement_processed()\n\u001b[1;32m    400\u001b[0m \u001b[38;5;28;01mif\u001b[39;00m using_dataloader_iter:\n\u001b[1;32m    401\u001b[0m     \u001b[38;5;66;03m# update the hook kwargs now that the step method might have consumed the iterator\u001b[39;00m\n",
      "File \u001b[0;32m~/CSCI/CSCI-7850/csci7850-project/.venv/lib/python3.12/site-packages/lightning/pytorch/trainer/call.py:319\u001b[0m, in \u001b[0;36m_call_strategy_hook\u001b[0;34m(trainer, hook_name, *args, **kwargs)\u001b[0m\n\u001b[1;32m    316\u001b[0m     \u001b[38;5;28;01mreturn\u001b[39;00m \u001b[38;5;28;01mNone\u001b[39;00m\n\u001b[1;32m    318\u001b[0m \u001b[38;5;28;01mwith\u001b[39;00m trainer\u001b[38;5;241m.\u001b[39mprofiler\u001b[38;5;241m.\u001b[39mprofile(\u001b[38;5;124mf\u001b[39m\u001b[38;5;124m\"\u001b[39m\u001b[38;5;124m[Strategy]\u001b[39m\u001b[38;5;132;01m{\u001b[39;00mtrainer\u001b[38;5;241m.\u001b[39mstrategy\u001b[38;5;241m.\u001b[39m\u001b[38;5;18m__class__\u001b[39m\u001b[38;5;241m.\u001b[39m\u001b[38;5;18m__name__\u001b[39m\u001b[38;5;132;01m}\u001b[39;00m\u001b[38;5;124m.\u001b[39m\u001b[38;5;132;01m{\u001b[39;00mhook_name\u001b[38;5;132;01m}\u001b[39;00m\u001b[38;5;124m\"\u001b[39m):\n\u001b[0;32m--> 319\u001b[0m     output \u001b[38;5;241m=\u001b[39m \u001b[43mfn\u001b[49m\u001b[43m(\u001b[49m\u001b[38;5;241;43m*\u001b[39;49m\u001b[43margs\u001b[49m\u001b[43m,\u001b[49m\u001b[43m \u001b[49m\u001b[38;5;241;43m*\u001b[39;49m\u001b[38;5;241;43m*\u001b[39;49m\u001b[43mkwargs\u001b[49m\u001b[43m)\u001b[49m\n\u001b[1;32m    321\u001b[0m \u001b[38;5;66;03m# restore current_fx when nested context\u001b[39;00m\n\u001b[1;32m    322\u001b[0m pl_module\u001b[38;5;241m.\u001b[39m_current_fx_name \u001b[38;5;241m=\u001b[39m prev_fx_name\n",
      "File \u001b[0;32m~/CSCI/CSCI-7850/csci7850-project/.venv/lib/python3.12/site-packages/lightning/pytorch/strategies/strategy.py:411\u001b[0m, in \u001b[0;36mStrategy.validation_step\u001b[0;34m(self, *args, **kwargs)\u001b[0m\n\u001b[1;32m    409\u001b[0m \u001b[38;5;28;01mif\u001b[39;00m \u001b[38;5;28mself\u001b[39m\u001b[38;5;241m.\u001b[39mmodel \u001b[38;5;241m!=\u001b[39m \u001b[38;5;28mself\u001b[39m\u001b[38;5;241m.\u001b[39mlightning_module:\n\u001b[1;32m    410\u001b[0m     \u001b[38;5;28;01mreturn\u001b[39;00m \u001b[38;5;28mself\u001b[39m\u001b[38;5;241m.\u001b[39m_forward_redirection(\u001b[38;5;28mself\u001b[39m\u001b[38;5;241m.\u001b[39mmodel, \u001b[38;5;28mself\u001b[39m\u001b[38;5;241m.\u001b[39mlightning_module, \u001b[38;5;124m\"\u001b[39m\u001b[38;5;124mvalidation_step\u001b[39m\u001b[38;5;124m\"\u001b[39m, \u001b[38;5;241m*\u001b[39margs, \u001b[38;5;241m*\u001b[39m\u001b[38;5;241m*\u001b[39mkwargs)\n\u001b[0;32m--> 411\u001b[0m \u001b[38;5;28;01mreturn\u001b[39;00m \u001b[38;5;28;43mself\u001b[39;49m\u001b[38;5;241;43m.\u001b[39;49m\u001b[43mlightning_module\u001b[49m\u001b[38;5;241;43m.\u001b[39;49m\u001b[43mvalidation_step\u001b[49m\u001b[43m(\u001b[49m\u001b[38;5;241;43m*\u001b[39;49m\u001b[43margs\u001b[49m\u001b[43m,\u001b[49m\u001b[43m \u001b[49m\u001b[38;5;241;43m*\u001b[39;49m\u001b[38;5;241;43m*\u001b[39;49m\u001b[43mkwargs\u001b[49m\u001b[43m)\u001b[49m\n",
      "Cell \u001b[0;32mIn[16], line 22\u001b[0m, in \u001b[0;36mLightningBoilerplate.validation_step\u001b[0;34m(self, val_batch, batch_idx)\u001b[0m\n\u001b[1;32m     20\u001b[0m \u001b[38;5;28;01mdef\u001b[39;00m \u001b[38;5;21mvalidation_step\u001b[39m(\u001b[38;5;28mself\u001b[39m, val_batch, batch_idx):\n\u001b[1;32m     21\u001b[0m     x, y_true \u001b[38;5;241m=\u001b[39m val_batch\n\u001b[0;32m---> 22\u001b[0m     y_pred \u001b[38;5;241m=\u001b[39m \u001b[38;5;28;43mself\u001b[39;49m\u001b[43m(\u001b[49m\u001b[43mx\u001b[49m\u001b[43m)\u001b[49m\n\u001b[1;32m     23\u001b[0m     \u001b[38;5;28;01mfor\u001b[39;00m metric_name, metric_function \u001b[38;5;129;01min\u001b[39;00m \u001b[38;5;28mself\u001b[39m\u001b[38;5;241m.\u001b[39mnetwork_metrics\u001b[38;5;241m.\u001b[39mitems():\n\u001b[1;32m     24\u001b[0m         metric_value \u001b[38;5;241m=\u001b[39m metric_function(y_pred,y_true)\n",
      "File \u001b[0;32m~/CSCI/CSCI-7850/csci7850-project/.venv/lib/python3.12/site-packages/torch/nn/modules/module.py:1736\u001b[0m, in \u001b[0;36mModule._wrapped_call_impl\u001b[0;34m(self, *args, **kwargs)\u001b[0m\n\u001b[1;32m   1734\u001b[0m     \u001b[38;5;28;01mreturn\u001b[39;00m \u001b[38;5;28mself\u001b[39m\u001b[38;5;241m.\u001b[39m_compiled_call_impl(\u001b[38;5;241m*\u001b[39margs, \u001b[38;5;241m*\u001b[39m\u001b[38;5;241m*\u001b[39mkwargs)  \u001b[38;5;66;03m# type: ignore[misc]\u001b[39;00m\n\u001b[1;32m   1735\u001b[0m \u001b[38;5;28;01melse\u001b[39;00m:\n\u001b[0;32m-> 1736\u001b[0m     \u001b[38;5;28;01mreturn\u001b[39;00m \u001b[38;5;28;43mself\u001b[39;49m\u001b[38;5;241;43m.\u001b[39;49m\u001b[43m_call_impl\u001b[49m\u001b[43m(\u001b[49m\u001b[38;5;241;43m*\u001b[39;49m\u001b[43margs\u001b[49m\u001b[43m,\u001b[49m\u001b[43m \u001b[49m\u001b[38;5;241;43m*\u001b[39;49m\u001b[38;5;241;43m*\u001b[39;49m\u001b[43mkwargs\u001b[49m\u001b[43m)\u001b[49m\n",
      "File \u001b[0;32m~/CSCI/CSCI-7850/csci7850-project/.venv/lib/python3.12/site-packages/torch/nn/modules/module.py:1747\u001b[0m, in \u001b[0;36mModule._call_impl\u001b[0;34m(self, *args, **kwargs)\u001b[0m\n\u001b[1;32m   1742\u001b[0m \u001b[38;5;66;03m# If we don't have any hooks, we want to skip the rest of the logic in\u001b[39;00m\n\u001b[1;32m   1743\u001b[0m \u001b[38;5;66;03m# this function, and just call forward.\u001b[39;00m\n\u001b[1;32m   1744\u001b[0m \u001b[38;5;28;01mif\u001b[39;00m \u001b[38;5;129;01mnot\u001b[39;00m (\u001b[38;5;28mself\u001b[39m\u001b[38;5;241m.\u001b[39m_backward_hooks \u001b[38;5;129;01mor\u001b[39;00m \u001b[38;5;28mself\u001b[39m\u001b[38;5;241m.\u001b[39m_backward_pre_hooks \u001b[38;5;129;01mor\u001b[39;00m \u001b[38;5;28mself\u001b[39m\u001b[38;5;241m.\u001b[39m_forward_hooks \u001b[38;5;129;01mor\u001b[39;00m \u001b[38;5;28mself\u001b[39m\u001b[38;5;241m.\u001b[39m_forward_pre_hooks\n\u001b[1;32m   1745\u001b[0m         \u001b[38;5;129;01mor\u001b[39;00m _global_backward_pre_hooks \u001b[38;5;129;01mor\u001b[39;00m _global_backward_hooks\n\u001b[1;32m   1746\u001b[0m         \u001b[38;5;129;01mor\u001b[39;00m _global_forward_hooks \u001b[38;5;129;01mor\u001b[39;00m _global_forward_pre_hooks):\n\u001b[0;32m-> 1747\u001b[0m     \u001b[38;5;28;01mreturn\u001b[39;00m \u001b[43mforward_call\u001b[49m\u001b[43m(\u001b[49m\u001b[38;5;241;43m*\u001b[39;49m\u001b[43margs\u001b[49m\u001b[43m,\u001b[49m\u001b[43m \u001b[49m\u001b[38;5;241;43m*\u001b[39;49m\u001b[38;5;241;43m*\u001b[39;49m\u001b[43mkwargs\u001b[49m\u001b[43m)\u001b[49m\n\u001b[1;32m   1749\u001b[0m result \u001b[38;5;241m=\u001b[39m \u001b[38;5;28;01mNone\u001b[39;00m\n\u001b[1;32m   1750\u001b[0m called_always_called_hooks \u001b[38;5;241m=\u001b[39m \u001b[38;5;28mset\u001b[39m()\n",
      "Cell \u001b[0;32mIn[19], line 43\u001b[0m, in \u001b[0;36mViTNetwork.forward\u001b[0;34m(self, x)\u001b[0m\n\u001b[1;32m     41\u001b[0m \u001b[38;5;28;01mdef\u001b[39;00m \u001b[38;5;21mforward\u001b[39m(\u001b[38;5;28mself\u001b[39m, x):\n\u001b[1;32m     42\u001b[0m     y \u001b[38;5;241m=\u001b[39m x\n\u001b[0;32m---> 43\u001b[0m     y \u001b[38;5;241m=\u001b[39m \u001b[38;5;28;43msuper\u001b[39;49m\u001b[43m(\u001b[49m\u001b[43m)\u001b[49m\u001b[38;5;241;43m.\u001b[39;49m\u001b[43mforward\u001b[49m\u001b[43m(\u001b[49m\u001b[43my\u001b[49m\u001b[43m)\u001b[49m\n\u001b[1;32m     44\u001b[0m     y \u001b[38;5;241m=\u001b[39m \u001b[38;5;28mself\u001b[39m\u001b[38;5;241m.\u001b[39mpatches(y)\n\u001b[1;32m     45\u001b[0m     y \u001b[38;5;241m=\u001b[39m y\u001b[38;5;241m.\u001b[39mreshape(y\u001b[38;5;241m.\u001b[39mshape[\u001b[38;5;241m0\u001b[39m:\u001b[38;5;241m2\u001b[39m] \u001b[38;5;241m+\u001b[39m (\u001b[38;5;241m-\u001b[39m\u001b[38;5;241m1\u001b[39m,))\u001b[38;5;241m.\u001b[39mpermute(\u001b[38;5;241m0\u001b[39m,\u001b[38;5;241m2\u001b[39m,\u001b[38;5;241m1\u001b[39m)\n",
      "Cell \u001b[0;32mIn[18], line 23\u001b[0m, in \u001b[0;36mStandardizeTransformModule.forward\u001b[0;34m(self, x)\u001b[0m\n\u001b[1;32m     21\u001b[0m \u001b[38;5;28;01mdef\u001b[39;00m \u001b[38;5;21mforward\u001b[39m(\u001b[38;5;28mself\u001b[39m, x):\n\u001b[1;32m     22\u001b[0m     y \u001b[38;5;241m=\u001b[39m x\n\u001b[0;32m---> 23\u001b[0m     y \u001b[38;5;241m=\u001b[39m \u001b[38;5;28;43mself\u001b[39;49m\u001b[38;5;241;43m.\u001b[39;49m\u001b[43mstandardize\u001b[49m\u001b[43m(\u001b[49m\u001b[43my\u001b[49m\u001b[43m)\u001b[49m\n\u001b[1;32m     24\u001b[0m     \u001b[38;5;28;01mif\u001b[39;00m \u001b[38;5;28mself\u001b[39m\u001b[38;5;241m.\u001b[39mtraining:\n\u001b[1;32m     25\u001b[0m         y \u001b[38;5;241m=\u001b[39m \u001b[38;5;28mself\u001b[39m\u001b[38;5;241m.\u001b[39mtransform(y)\n",
      "File \u001b[0;32m~/CSCI/CSCI-7850/csci7850-project/.venv/lib/python3.12/site-packages/torchvision/transforms/transforms.py:95\u001b[0m, in \u001b[0;36mCompose.__call__\u001b[0;34m(self, img)\u001b[0m\n\u001b[1;32m     93\u001b[0m \u001b[38;5;28;01mdef\u001b[39;00m \u001b[38;5;21m__call__\u001b[39m(\u001b[38;5;28mself\u001b[39m, img):\n\u001b[1;32m     94\u001b[0m     \u001b[38;5;28;01mfor\u001b[39;00m t \u001b[38;5;129;01min\u001b[39;00m \u001b[38;5;28mself\u001b[39m\u001b[38;5;241m.\u001b[39mtransforms:\n\u001b[0;32m---> 95\u001b[0m         img \u001b[38;5;241m=\u001b[39m \u001b[43mt\u001b[49m\u001b[43m(\u001b[49m\u001b[43mimg\u001b[49m\u001b[43m)\u001b[49m\n\u001b[1;32m     96\u001b[0m     \u001b[38;5;28;01mreturn\u001b[39;00m img\n",
      "File \u001b[0;32m~/CSCI/CSCI-7850/csci7850-project/.venv/lib/python3.12/site-packages/torch/nn/modules/module.py:1736\u001b[0m, in \u001b[0;36mModule._wrapped_call_impl\u001b[0;34m(self, *args, **kwargs)\u001b[0m\n\u001b[1;32m   1734\u001b[0m     \u001b[38;5;28;01mreturn\u001b[39;00m \u001b[38;5;28mself\u001b[39m\u001b[38;5;241m.\u001b[39m_compiled_call_impl(\u001b[38;5;241m*\u001b[39margs, \u001b[38;5;241m*\u001b[39m\u001b[38;5;241m*\u001b[39mkwargs)  \u001b[38;5;66;03m# type: ignore[misc]\u001b[39;00m\n\u001b[1;32m   1735\u001b[0m \u001b[38;5;28;01melse\u001b[39;00m:\n\u001b[0;32m-> 1736\u001b[0m     \u001b[38;5;28;01mreturn\u001b[39;00m \u001b[38;5;28;43mself\u001b[39;49m\u001b[38;5;241;43m.\u001b[39;49m\u001b[43m_call_impl\u001b[49m\u001b[43m(\u001b[49m\u001b[38;5;241;43m*\u001b[39;49m\u001b[43margs\u001b[49m\u001b[43m,\u001b[49m\u001b[43m \u001b[49m\u001b[38;5;241;43m*\u001b[39;49m\u001b[38;5;241;43m*\u001b[39;49m\u001b[43mkwargs\u001b[49m\u001b[43m)\u001b[49m\n",
      "File \u001b[0;32m~/CSCI/CSCI-7850/csci7850-project/.venv/lib/python3.12/site-packages/torch/nn/modules/module.py:1747\u001b[0m, in \u001b[0;36mModule._call_impl\u001b[0;34m(self, *args, **kwargs)\u001b[0m\n\u001b[1;32m   1742\u001b[0m \u001b[38;5;66;03m# If we don't have any hooks, we want to skip the rest of the logic in\u001b[39;00m\n\u001b[1;32m   1743\u001b[0m \u001b[38;5;66;03m# this function, and just call forward.\u001b[39;00m\n\u001b[1;32m   1744\u001b[0m \u001b[38;5;28;01mif\u001b[39;00m \u001b[38;5;129;01mnot\u001b[39;00m (\u001b[38;5;28mself\u001b[39m\u001b[38;5;241m.\u001b[39m_backward_hooks \u001b[38;5;129;01mor\u001b[39;00m \u001b[38;5;28mself\u001b[39m\u001b[38;5;241m.\u001b[39m_backward_pre_hooks \u001b[38;5;129;01mor\u001b[39;00m \u001b[38;5;28mself\u001b[39m\u001b[38;5;241m.\u001b[39m_forward_hooks \u001b[38;5;129;01mor\u001b[39;00m \u001b[38;5;28mself\u001b[39m\u001b[38;5;241m.\u001b[39m_forward_pre_hooks\n\u001b[1;32m   1745\u001b[0m         \u001b[38;5;129;01mor\u001b[39;00m _global_backward_pre_hooks \u001b[38;5;129;01mor\u001b[39;00m _global_backward_hooks\n\u001b[1;32m   1746\u001b[0m         \u001b[38;5;129;01mor\u001b[39;00m _global_forward_hooks \u001b[38;5;129;01mor\u001b[39;00m _global_forward_pre_hooks):\n\u001b[0;32m-> 1747\u001b[0m     \u001b[38;5;28;01mreturn\u001b[39;00m \u001b[43mforward_call\u001b[49m\u001b[43m(\u001b[49m\u001b[38;5;241;43m*\u001b[39;49m\u001b[43margs\u001b[49m\u001b[43m,\u001b[49m\u001b[43m \u001b[49m\u001b[38;5;241;43m*\u001b[39;49m\u001b[38;5;241;43m*\u001b[39;49m\u001b[43mkwargs\u001b[49m\u001b[43m)\u001b[49m\n\u001b[1;32m   1749\u001b[0m result \u001b[38;5;241m=\u001b[39m \u001b[38;5;28;01mNone\u001b[39;00m\n\u001b[1;32m   1750\u001b[0m called_always_called_hooks \u001b[38;5;241m=\u001b[39m \u001b[38;5;28mset\u001b[39m()\n",
      "File \u001b[0;32m~/CSCI/CSCI-7850/csci7850-project/.venv/lib/python3.12/site-packages/torchvision/transforms/transforms.py:354\u001b[0m, in \u001b[0;36mResize.forward\u001b[0;34m(self, img)\u001b[0m\n\u001b[1;32m    346\u001b[0m \u001b[38;5;28;01mdef\u001b[39;00m \u001b[38;5;21mforward\u001b[39m(\u001b[38;5;28mself\u001b[39m, img):\n\u001b[1;32m    347\u001b[0m \u001b[38;5;250m    \u001b[39m\u001b[38;5;124;03m\"\"\"\u001b[39;00m\n\u001b[1;32m    348\u001b[0m \u001b[38;5;124;03m    Args:\u001b[39;00m\n\u001b[1;32m    349\u001b[0m \u001b[38;5;124;03m        img (PIL Image or Tensor): Image to be scaled.\u001b[39;00m\n\u001b[0;32m   (...)\u001b[0m\n\u001b[1;32m    352\u001b[0m \u001b[38;5;124;03m        PIL Image or Tensor: Rescaled image.\u001b[39;00m\n\u001b[1;32m    353\u001b[0m \u001b[38;5;124;03m    \"\"\"\u001b[39;00m\n\u001b[0;32m--> 354\u001b[0m     \u001b[38;5;28;01mreturn\u001b[39;00m \u001b[43mF\u001b[49m\u001b[38;5;241;43m.\u001b[39;49m\u001b[43mresize\u001b[49m\u001b[43m(\u001b[49m\u001b[43mimg\u001b[49m\u001b[43m,\u001b[49m\u001b[43m \u001b[49m\u001b[38;5;28;43mself\u001b[39;49m\u001b[38;5;241;43m.\u001b[39;49m\u001b[43msize\u001b[49m\u001b[43m,\u001b[49m\u001b[43m \u001b[49m\u001b[38;5;28;43mself\u001b[39;49m\u001b[38;5;241;43m.\u001b[39;49m\u001b[43minterpolation\u001b[49m\u001b[43m,\u001b[49m\u001b[43m \u001b[49m\u001b[38;5;28;43mself\u001b[39;49m\u001b[38;5;241;43m.\u001b[39;49m\u001b[43mmax_size\u001b[49m\u001b[43m,\u001b[49m\u001b[43m \u001b[49m\u001b[38;5;28;43mself\u001b[39;49m\u001b[38;5;241;43m.\u001b[39;49m\u001b[43mantialias\u001b[49m\u001b[43m)\u001b[49m\n",
      "File \u001b[0;32m~/CSCI/CSCI-7850/csci7850-project/.venv/lib/python3.12/site-packages/torchvision/transforms/functional.py:479\u001b[0m, in \u001b[0;36mresize\u001b[0;34m(img, size, interpolation, max_size, antialias)\u001b[0m\n\u001b[1;32m    476\u001b[0m     pil_interpolation \u001b[38;5;241m=\u001b[39m pil_modes_mapping[interpolation]\n\u001b[1;32m    477\u001b[0m     \u001b[38;5;28;01mreturn\u001b[39;00m F_pil\u001b[38;5;241m.\u001b[39mresize(img, size\u001b[38;5;241m=\u001b[39moutput_size, interpolation\u001b[38;5;241m=\u001b[39mpil_interpolation)\n\u001b[0;32m--> 479\u001b[0m \u001b[38;5;28;01mreturn\u001b[39;00m \u001b[43mF_t\u001b[49m\u001b[38;5;241;43m.\u001b[39;49m\u001b[43mresize\u001b[49m\u001b[43m(\u001b[49m\u001b[43mimg\u001b[49m\u001b[43m,\u001b[49m\u001b[43m \u001b[49m\u001b[43msize\u001b[49m\u001b[38;5;241;43m=\u001b[39;49m\u001b[43moutput_size\u001b[49m\u001b[43m,\u001b[49m\u001b[43m \u001b[49m\u001b[43minterpolation\u001b[49m\u001b[38;5;241;43m=\u001b[39;49m\u001b[43minterpolation\u001b[49m\u001b[38;5;241;43m.\u001b[39;49m\u001b[43mvalue\u001b[49m\u001b[43m,\u001b[49m\u001b[43m \u001b[49m\u001b[43mantialias\u001b[49m\u001b[38;5;241;43m=\u001b[39;49m\u001b[43mantialias\u001b[49m\u001b[43m)\u001b[49m\n",
      "File \u001b[0;32m~/CSCI/CSCI-7850/csci7850-project/.venv/lib/python3.12/site-packages/torchvision/transforms/_functional_tensor.py:467\u001b[0m, in \u001b[0;36mresize\u001b[0;34m(img, size, interpolation, antialias)\u001b[0m\n\u001b[1;32m    464\u001b[0m \u001b[38;5;66;03m# Define align_corners to avoid warnings\u001b[39;00m\n\u001b[1;32m    465\u001b[0m align_corners \u001b[38;5;241m=\u001b[39m \u001b[38;5;28;01mFalse\u001b[39;00m \u001b[38;5;28;01mif\u001b[39;00m interpolation \u001b[38;5;129;01min\u001b[39;00m [\u001b[38;5;124m\"\u001b[39m\u001b[38;5;124mbilinear\u001b[39m\u001b[38;5;124m\"\u001b[39m, \u001b[38;5;124m\"\u001b[39m\u001b[38;5;124mbicubic\u001b[39m\u001b[38;5;124m\"\u001b[39m] \u001b[38;5;28;01melse\u001b[39;00m \u001b[38;5;28;01mNone\u001b[39;00m\n\u001b[0;32m--> 467\u001b[0m img \u001b[38;5;241m=\u001b[39m \u001b[43minterpolate\u001b[49m\u001b[43m(\u001b[49m\u001b[43mimg\u001b[49m\u001b[43m,\u001b[49m\u001b[43m \u001b[49m\u001b[43msize\u001b[49m\u001b[38;5;241;43m=\u001b[39;49m\u001b[43msize\u001b[49m\u001b[43m,\u001b[49m\u001b[43m \u001b[49m\u001b[43mmode\u001b[49m\u001b[38;5;241;43m=\u001b[39;49m\u001b[43minterpolation\u001b[49m\u001b[43m,\u001b[49m\u001b[43m \u001b[49m\u001b[43malign_corners\u001b[49m\u001b[38;5;241;43m=\u001b[39;49m\u001b[43malign_corners\u001b[49m\u001b[43m,\u001b[49m\u001b[43m \u001b[49m\u001b[43mantialias\u001b[49m\u001b[38;5;241;43m=\u001b[39;49m\u001b[43mantialias\u001b[49m\u001b[43m)\u001b[49m\n\u001b[1;32m    469\u001b[0m \u001b[38;5;28;01mif\u001b[39;00m interpolation \u001b[38;5;241m==\u001b[39m \u001b[38;5;124m\"\u001b[39m\u001b[38;5;124mbicubic\u001b[39m\u001b[38;5;124m\"\u001b[39m \u001b[38;5;129;01mand\u001b[39;00m out_dtype \u001b[38;5;241m==\u001b[39m torch\u001b[38;5;241m.\u001b[39muint8:\n\u001b[1;32m    470\u001b[0m     img \u001b[38;5;241m=\u001b[39m img\u001b[38;5;241m.\u001b[39mclamp(\u001b[38;5;28mmin\u001b[39m\u001b[38;5;241m=\u001b[39m\u001b[38;5;241m0\u001b[39m, \u001b[38;5;28mmax\u001b[39m\u001b[38;5;241m=\u001b[39m\u001b[38;5;241m255\u001b[39m)\n",
      "File \u001b[0;32m~/CSCI/CSCI-7850/csci7850-project/.venv/lib/python3.12/site-packages/torch/nn/functional.py:4565\u001b[0m, in \u001b[0;36minterpolate\u001b[0;34m(input, size, scale_factor, mode, align_corners, recompute_scale_factor, antialias)\u001b[0m\n\u001b[1;32m   4563\u001b[0m \u001b[38;5;28;01massert\u001b[39;00m align_corners \u001b[38;5;129;01mis\u001b[39;00m \u001b[38;5;129;01mnot\u001b[39;00m \u001b[38;5;28;01mNone\u001b[39;00m\n\u001b[1;32m   4564\u001b[0m \u001b[38;5;28;01mif\u001b[39;00m antialias:\n\u001b[0;32m-> 4565\u001b[0m     \u001b[38;5;28;01mreturn\u001b[39;00m \u001b[43mtorch\u001b[49m\u001b[38;5;241;43m.\u001b[39;49m\u001b[43m_C\u001b[49m\u001b[38;5;241;43m.\u001b[39;49m\u001b[43m_nn\u001b[49m\u001b[38;5;241;43m.\u001b[39;49m\u001b[43m_upsample_bilinear2d_aa\u001b[49m\u001b[43m(\u001b[49m\n\u001b[1;32m   4566\u001b[0m \u001b[43m        \u001b[49m\u001b[38;5;28;43minput\u001b[39;49m\u001b[43m,\u001b[49m\u001b[43m \u001b[49m\u001b[43moutput_size\u001b[49m\u001b[43m,\u001b[49m\u001b[43m \u001b[49m\u001b[43malign_corners\u001b[49m\u001b[43m,\u001b[49m\u001b[43m \u001b[49m\u001b[43mscale_factors\u001b[49m\n\u001b[1;32m   4567\u001b[0m \u001b[43m    \u001b[49m\u001b[43m)\u001b[49m\n\u001b[1;32m   4568\u001b[0m \u001b[38;5;66;03m# Two levels are necessary to prevent TorchScript from touching\u001b[39;00m\n\u001b[1;32m   4569\u001b[0m \u001b[38;5;66;03m# are_deterministic_algorithms_enabled.\u001b[39;00m\n\u001b[1;32m   4570\u001b[0m \u001b[38;5;28;01mif\u001b[39;00m \u001b[38;5;129;01mnot\u001b[39;00m torch\u001b[38;5;241m.\u001b[39mjit\u001b[38;5;241m.\u001b[39mis_scripting():\n",
      "\u001b[0;31mNotImplementedError\u001b[0m: The operator 'aten::_upsample_bilinear2d_aa.out' is not currently implemented for the MPS device. If you want this op to be added in priority during the prototype phase of this feature, please comment on https://github.com/pytorch/pytorch/issues/77764. As a temporary fix, you can set the environment variable `PYTORCH_ENABLE_MPS_FALLBACK=1` to use the CPU as a fallback for this op. WARNING: this will be slower than running natively on MPS."
     ]
    }
   ],
   "source": [
    "os.environ['PYTORCH_ENABLE_MPS_FALLBACK'] = '1'\n",
    "trainer.validate(vit_net, data_module)"
   ]
  },
  {
   "cell_type": "code",
   "execution_count": 67,
   "id": "aea1f17f-26b8-480b-93b9-e5929fa8cff1",
   "metadata": {},
   "outputs": [
    {
     "name": "stderr",
     "output_type": "stream",
     "text": [
      "/opt/conda/lib/python3.11/site-packages/lightning/pytorch/callbacks/model_checkpoint.py:654: Checkpoint directory logs/VIT-EuroSAT/vit-eurosat/checkpoints exists and is not empty.\n",
      "LOCAL_RANK: 0 - CUDA_VISIBLE_DEVICES: [0]\n",
      "\n",
      "  | Name               | Type                  | Params | Mode \n",
      "---------------------------------------------------------------------\n",
      "0 | network_metrics    | ModuleDict            | 0      | train\n",
      "1 | network_loss       | CrossEntropyLoss      | 0      | train\n",
      "2 | patches            | Conv2d                | 196 K  | train\n",
      "3 | position_embedding | SinePositionEmbedding | 0      | train\n",
      "4 | transformer_blocks | Sequential            | 2.8 M  | train\n",
      "5 | pooling            | AdaptiveAvgPool1d     | 0      | train\n",
      "6 | linear             | Linear                | 2.6 K  | train\n",
      "---------------------------------------------------------------------\n",
      "3.0 M     Trainable params\n",
      "0         Non-trainable params\n",
      "3.0 M     Total params\n",
      "11.874    Total estimated model params size (MB)\n",
      "86        Modules in train mode\n",
      "0         Modules in eval mode\n",
      "SLURM auto-requeueing enabled. Setting signal handlers.\n"
     ]
    },
    {
     "data": {
      "application/vnd.jupyter.widget-view+json": {
       "model_id": "",
       "version_major": 2,
       "version_minor": 0
      },
      "text/plain": [
       "Sanity Checking: |          | 0/? [00:00<?, ?it/s]"
      ]
     },
     "metadata": {},
     "output_type": "display_data"
    },
    {
     "data": {
      "application/vnd.jupyter.widget-view+json": {
       "model_id": "e82e46e44f904a74a36d7fb38976a121",
       "version_major": 2,
       "version_minor": 0
      },
      "text/plain": [
       "Training: |          | 0/? [00:00<?, ?it/s]"
      ]
     },
     "metadata": {},
     "output_type": "display_data"
    },
    {
     "data": {
      "application/vnd.jupyter.widget-view+json": {
       "model_id": "",
       "version_major": 2,
       "version_minor": 0
      },
      "text/plain": [
       "Validation: |          | 0/? [00:00<?, ?it/s]"
      ]
     },
     "metadata": {},
     "output_type": "display_data"
    },
    {
     "data": {
      "application/vnd.jupyter.widget-view+json": {
       "model_id": "",
       "version_major": 2,
       "version_minor": 0
      },
      "text/plain": [
       "Validation: |          | 0/? [00:00<?, ?it/s]"
      ]
     },
     "metadata": {},
     "output_type": "display_data"
    },
    {
     "data": {
      "application/vnd.jupyter.widget-view+json": {
       "model_id": "",
       "version_major": 2,
       "version_minor": 0
      },
      "text/plain": [
       "Validation: |          | 0/? [00:00<?, ?it/s]"
      ]
     },
     "metadata": {},
     "output_type": "display_data"
    },
    {
     "data": {
      "application/vnd.jupyter.widget-view+json": {
       "model_id": "",
       "version_major": 2,
       "version_minor": 0
      },
      "text/plain": [
       "Validation: |          | 0/? [00:00<?, ?it/s]"
      ]
     },
     "metadata": {},
     "output_type": "display_data"
    },
    {
     "data": {
      "application/vnd.jupyter.widget-view+json": {
       "model_id": "",
       "version_major": 2,
       "version_minor": 0
      },
      "text/plain": [
       "Validation: |          | 0/? [00:00<?, ?it/s]"
      ]
     },
     "metadata": {},
     "output_type": "display_data"
    },
    {
     "data": {
      "application/vnd.jupyter.widget-view+json": {
       "model_id": "",
       "version_major": 2,
       "version_minor": 0
      },
      "text/plain": [
       "Validation: |          | 0/? [00:00<?, ?it/s]"
      ]
     },
     "metadata": {},
     "output_type": "display_data"
    },
    {
     "data": {
      "application/vnd.jupyter.widget-view+json": {
       "model_id": "",
       "version_major": 2,
       "version_minor": 0
      },
      "text/plain": [
       "Validation: |          | 0/? [00:00<?, ?it/s]"
      ]
     },
     "metadata": {},
     "output_type": "display_data"
    },
    {
     "data": {
      "application/vnd.jupyter.widget-view+json": {
       "model_id": "",
       "version_major": 2,
       "version_minor": 0
      },
      "text/plain": [
       "Validation: |          | 0/? [00:00<?, ?it/s]"
      ]
     },
     "metadata": {},
     "output_type": "display_data"
    },
    {
     "data": {
      "application/vnd.jupyter.widget-view+json": {
       "model_id": "",
       "version_major": 2,
       "version_minor": 0
      },
      "text/plain": [
       "Validation: |          | 0/? [00:00<?, ?it/s]"
      ]
     },
     "metadata": {},
     "output_type": "display_data"
    },
    {
     "data": {
      "application/vnd.jupyter.widget-view+json": {
       "model_id": "",
       "version_major": 2,
       "version_minor": 0
      },
      "text/plain": [
       "Validation: |          | 0/? [00:00<?, ?it/s]"
      ]
     },
     "metadata": {},
     "output_type": "display_data"
    },
    {
     "data": {
      "application/vnd.jupyter.widget-view+json": {
       "model_id": "",
       "version_major": 2,
       "version_minor": 0
      },
      "text/plain": [
       "Validation: |          | 0/? [00:00<?, ?it/s]"
      ]
     },
     "metadata": {},
     "output_type": "display_data"
    },
    {
     "data": {
      "application/vnd.jupyter.widget-view+json": {
       "model_id": "",
       "version_major": 2,
       "version_minor": 0
      },
      "text/plain": [
       "Validation: |          | 0/? [00:00<?, ?it/s]"
      ]
     },
     "metadata": {},
     "output_type": "display_data"
    },
    {
     "data": {
      "application/vnd.jupyter.widget-view+json": {
       "model_id": "",
       "version_major": 2,
       "version_minor": 0
      },
      "text/plain": [
       "Validation: |          | 0/? [00:00<?, ?it/s]"
      ]
     },
     "metadata": {},
     "output_type": "display_data"
    },
    {
     "data": {
      "application/vnd.jupyter.widget-view+json": {
       "model_id": "",
       "version_major": 2,
       "version_minor": 0
      },
      "text/plain": [
       "Validation: |          | 0/? [00:00<?, ?it/s]"
      ]
     },
     "metadata": {},
     "output_type": "display_data"
    },
    {
     "data": {
      "application/vnd.jupyter.widget-view+json": {
       "model_id": "",
       "version_major": 2,
       "version_minor": 0
      },
      "text/plain": [
       "Validation: |          | 0/? [00:00<?, ?it/s]"
      ]
     },
     "metadata": {},
     "output_type": "display_data"
    },
    {
     "data": {
      "application/vnd.jupyter.widget-view+json": {
       "model_id": "",
       "version_major": 2,
       "version_minor": 0
      },
      "text/plain": [
       "Validation: |          | 0/? [00:00<?, ?it/s]"
      ]
     },
     "metadata": {},
     "output_type": "display_data"
    },
    {
     "data": {
      "application/vnd.jupyter.widget-view+json": {
       "model_id": "",
       "version_major": 2,
       "version_minor": 0
      },
      "text/plain": [
       "Validation: |          | 0/? [00:00<?, ?it/s]"
      ]
     },
     "metadata": {},
     "output_type": "display_data"
    },
    {
     "data": {
      "application/vnd.jupyter.widget-view+json": {
       "model_id": "",
       "version_major": 2,
       "version_minor": 0
      },
      "text/plain": [
       "Validation: |          | 0/? [00:00<?, ?it/s]"
      ]
     },
     "metadata": {},
     "output_type": "display_data"
    },
    {
     "data": {
      "application/vnd.jupyter.widget-view+json": {
       "model_id": "",
       "version_major": 2,
       "version_minor": 0
      },
      "text/plain": [
       "Validation: |          | 0/? [00:00<?, ?it/s]"
      ]
     },
     "metadata": {},
     "output_type": "display_data"
    },
    {
     "data": {
      "application/vnd.jupyter.widget-view+json": {
       "model_id": "",
       "version_major": 2,
       "version_minor": 0
      },
      "text/plain": [
       "Validation: |          | 0/? [00:00<?, ?it/s]"
      ]
     },
     "metadata": {},
     "output_type": "display_data"
    },
    {
     "data": {
      "application/vnd.jupyter.widget-view+json": {
       "model_id": "",
       "version_major": 2,
       "version_minor": 0
      },
      "text/plain": [
       "Validation: |          | 0/? [00:00<?, ?it/s]"
      ]
     },
     "metadata": {},
     "output_type": "display_data"
    },
    {
     "data": {
      "application/vnd.jupyter.widget-view+json": {
       "model_id": "",
       "version_major": 2,
       "version_minor": 0
      },
      "text/plain": [
       "Validation: |          | 0/? [00:00<?, ?it/s]"
      ]
     },
     "metadata": {},
     "output_type": "display_data"
    },
    {
     "data": {
      "application/vnd.jupyter.widget-view+json": {
       "model_id": "",
       "version_major": 2,
       "version_minor": 0
      },
      "text/plain": [
       "Validation: |          | 0/? [00:00<?, ?it/s]"
      ]
     },
     "metadata": {},
     "output_type": "display_data"
    },
    {
     "data": {
      "application/vnd.jupyter.widget-view+json": {
       "model_id": "",
       "version_major": 2,
       "version_minor": 0
      },
      "text/plain": [
       "Validation: |          | 0/? [00:00<?, ?it/s]"
      ]
     },
     "metadata": {},
     "output_type": "display_data"
    },
    {
     "data": {
      "application/vnd.jupyter.widget-view+json": {
       "model_id": "",
       "version_major": 2,
       "version_minor": 0
      },
      "text/plain": [
       "Validation: |          | 0/? [00:00<?, ?it/s]"
      ]
     },
     "metadata": {},
     "output_type": "display_data"
    },
    {
     "name": "stderr",
     "output_type": "stream",
     "text": [
      "`Trainer.fit` stopped: `max_epochs=25` reached.\n"
     ]
    }
   ],
   "source": [
    "trainer.fit(vit_net, data_module)"
   ]
  },
  {
   "cell_type": "code",
   "execution_count": 68,
   "id": "52904b33-7e38-4183-a131-8409b0bdae2d",
   "metadata": {},
   "outputs": [
    {
     "name": "stderr",
     "output_type": "stream",
     "text": [
      "LOCAL_RANK: 0 - CUDA_VISIBLE_DEVICES: [0]\n",
      "SLURM auto-requeueing enabled. Setting signal handlers.\n"
     ]
    },
    {
     "data": {
      "application/vnd.jupyter.widget-view+json": {
       "model_id": "13713184d6f5453ba19fa66007b0c5e9",
       "version_major": 2,
       "version_minor": 0
      },
      "text/plain": [
       "Validation: |          | 0/? [00:00<?, ?it/s]"
      ]
     },
     "metadata": {},
     "output_type": "display_data"
    },
    {
     "data": {
      "text/html": [
       "<pre style=\"white-space:pre;overflow-x:auto;line-height:normal;font-family:Menlo,'DejaVu Sans Mono',consolas,'Courier New',monospace\">┏━━━━━━━━━━━━━━━━━━━━━━━━━━━┳━━━━━━━━━━━━━━━━━━━━━━━━━━━┓\n",
       "┃<span style=\"font-weight: bold\">      Validate metric      </span>┃<span style=\"font-weight: bold\">       DataLoader 0        </span>┃\n",
       "┡━━━━━━━━━━━━━━━━━━━━━━━━━━━╇━━━━━━━━━━━━━━━━━━━━━━━━━━━┩\n",
       "│<span style=\"color: #008080; text-decoration-color: #008080\">          val_acc          </span>│<span style=\"color: #800080; text-decoration-color: #800080\">    0.9448148012161255     </span>│\n",
       "│<span style=\"color: #008080; text-decoration-color: #008080\">         val_loss          </span>│<span style=\"color: #800080; text-decoration-color: #800080\">    0.20276297628879547    </span>│\n",
       "└───────────────────────────┴───────────────────────────┘\n",
       "</pre>\n"
      ],
      "text/plain": [
       "┏━━━━━━━━━━━━━━━━━━━━━━━━━━━┳━━━━━━━━━━━━━━━━━━━━━━━━━━━┓\n",
       "┃\u001b[1m \u001b[0m\u001b[1m     Validate metric     \u001b[0m\u001b[1m \u001b[0m┃\u001b[1m \u001b[0m\u001b[1m      DataLoader 0       \u001b[0m\u001b[1m \u001b[0m┃\n",
       "┡━━━━━━━━━━━━━━━━━━━━━━━━━━━╇━━━━━━━━━━━━━━━━━━━━━━━━━━━┩\n",
       "│\u001b[36m \u001b[0m\u001b[36m         val_acc         \u001b[0m\u001b[36m \u001b[0m│\u001b[35m \u001b[0m\u001b[35m   0.9448148012161255    \u001b[0m\u001b[35m \u001b[0m│\n",
       "│\u001b[36m \u001b[0m\u001b[36m        val_loss         \u001b[0m\u001b[36m \u001b[0m│\u001b[35m \u001b[0m\u001b[35m   0.20276297628879547   \u001b[0m\u001b[35m \u001b[0m│\n",
       "└───────────────────────────┴───────────────────────────┘\n"
      ]
     },
     "metadata": {},
     "output_type": "display_data"
    },
    {
     "data": {
      "text/plain": [
       "[{'val_acc': 0.9448148012161255, 'val_loss': 0.20276297628879547}]"
      ]
     },
     "execution_count": 68,
     "metadata": {},
     "output_type": "execute_result"
    }
   ],
   "source": [
    "trainer.validate(vit_net, data_module)"
   ]
  },
  {
   "cell_type": "code",
   "execution_count": 69,
   "id": "0fdfe3e4-af41-40b6-acb4-01dddf0719c0",
   "metadata": {
    "scrolled": true
   },
   "outputs": [
    {
     "data": {
      "text/html": [
       "<div>\n",
       "<style scoped>\n",
       "    .dataframe tbody tr th:only-of-type {\n",
       "        vertical-align: middle;\n",
       "    }\n",
       "\n",
       "    .dataframe tbody tr th {\n",
       "        vertical-align: top;\n",
       "    }\n",
       "\n",
       "    .dataframe thead th {\n",
       "        text-align: right;\n",
       "    }\n",
       "</style>\n",
       "<table border=\"1\" class=\"dataframe\">\n",
       "  <thead>\n",
       "    <tr style=\"text-align: right;\">\n",
       "      <th></th>\n",
       "      <th>epoch</th>\n",
       "      <th>step</th>\n",
       "      <th>train_acc</th>\n",
       "      <th>train_loss</th>\n",
       "      <th>val_acc</th>\n",
       "      <th>val_loss</th>\n",
       "    </tr>\n",
       "  </thead>\n",
       "  <tbody>\n",
       "    <tr>\n",
       "      <th>0</th>\n",
       "      <td>0</td>\n",
       "      <td>0</td>\n",
       "      <td>NaN</td>\n",
       "      <td>NaN</td>\n",
       "      <td>0.092407</td>\n",
       "      <td>2.523409</td>\n",
       "    </tr>\n",
       "    <tr>\n",
       "      <th>1</th>\n",
       "      <td>0</td>\n",
       "      <td>674</td>\n",
       "      <td>NaN</td>\n",
       "      <td>NaN</td>\n",
       "      <td>0.669259</td>\n",
       "      <td>0.982857</td>\n",
       "    </tr>\n",
       "    <tr>\n",
       "      <th>2</th>\n",
       "      <td>0</td>\n",
       "      <td>674</td>\n",
       "      <td>0.620880</td>\n",
       "      <td>1.069241</td>\n",
       "      <td>NaN</td>\n",
       "      <td>NaN</td>\n",
       "    </tr>\n",
       "    <tr>\n",
       "      <th>3</th>\n",
       "      <td>1</td>\n",
       "      <td>1349</td>\n",
       "      <td>NaN</td>\n",
       "      <td>NaN</td>\n",
       "      <td>0.812593</td>\n",
       "      <td>0.532735</td>\n",
       "    </tr>\n",
       "    <tr>\n",
       "      <th>4</th>\n",
       "      <td>1</td>\n",
       "      <td>1349</td>\n",
       "      <td>0.764907</td>\n",
       "      <td>0.664586</td>\n",
       "      <td>NaN</td>\n",
       "      <td>NaN</td>\n",
       "    </tr>\n",
       "    <tr>\n",
       "      <th>5</th>\n",
       "      <td>2</td>\n",
       "      <td>2024</td>\n",
       "      <td>NaN</td>\n",
       "      <td>NaN</td>\n",
       "      <td>0.824074</td>\n",
       "      <td>0.494373</td>\n",
       "    </tr>\n",
       "    <tr>\n",
       "      <th>6</th>\n",
       "      <td>2</td>\n",
       "      <td>2024</td>\n",
       "      <td>0.800185</td>\n",
       "      <td>0.568235</td>\n",
       "      <td>NaN</td>\n",
       "      <td>NaN</td>\n",
       "    </tr>\n",
       "    <tr>\n",
       "      <th>7</th>\n",
       "      <td>3</td>\n",
       "      <td>2699</td>\n",
       "      <td>NaN</td>\n",
       "      <td>NaN</td>\n",
       "      <td>0.816481</td>\n",
       "      <td>0.531068</td>\n",
       "    </tr>\n",
       "    <tr>\n",
       "      <th>8</th>\n",
       "      <td>3</td>\n",
       "      <td>2699</td>\n",
       "      <td>0.830648</td>\n",
       "      <td>0.491002</td>\n",
       "      <td>NaN</td>\n",
       "      <td>NaN</td>\n",
       "    </tr>\n",
       "    <tr>\n",
       "      <th>9</th>\n",
       "      <td>4</td>\n",
       "      <td>3374</td>\n",
       "      <td>NaN</td>\n",
       "      <td>NaN</td>\n",
       "      <td>0.874630</td>\n",
       "      <td>0.378683</td>\n",
       "    </tr>\n",
       "    <tr>\n",
       "      <th>10</th>\n",
       "      <td>4</td>\n",
       "      <td>3374</td>\n",
       "      <td>0.845602</td>\n",
       "      <td>0.441962</td>\n",
       "      <td>NaN</td>\n",
       "      <td>NaN</td>\n",
       "    </tr>\n",
       "    <tr>\n",
       "      <th>11</th>\n",
       "      <td>5</td>\n",
       "      <td>4049</td>\n",
       "      <td>NaN</td>\n",
       "      <td>NaN</td>\n",
       "      <td>0.882593</td>\n",
       "      <td>0.346765</td>\n",
       "    </tr>\n",
       "    <tr>\n",
       "      <th>12</th>\n",
       "      <td>5</td>\n",
       "      <td>4049</td>\n",
       "      <td>0.867963</td>\n",
       "      <td>0.385133</td>\n",
       "      <td>NaN</td>\n",
       "      <td>NaN</td>\n",
       "    </tr>\n",
       "    <tr>\n",
       "      <th>13</th>\n",
       "      <td>6</td>\n",
       "      <td>4724</td>\n",
       "      <td>NaN</td>\n",
       "      <td>NaN</td>\n",
       "      <td>0.895000</td>\n",
       "      <td>0.323250</td>\n",
       "    </tr>\n",
       "    <tr>\n",
       "      <th>14</th>\n",
       "      <td>6</td>\n",
       "      <td>4724</td>\n",
       "      <td>0.879676</td>\n",
       "      <td>0.350770</td>\n",
       "      <td>NaN</td>\n",
       "      <td>NaN</td>\n",
       "    </tr>\n",
       "    <tr>\n",
       "      <th>15</th>\n",
       "      <td>7</td>\n",
       "      <td>5399</td>\n",
       "      <td>NaN</td>\n",
       "      <td>NaN</td>\n",
       "      <td>0.905370</td>\n",
       "      <td>0.301208</td>\n",
       "    </tr>\n",
       "    <tr>\n",
       "      <th>16</th>\n",
       "      <td>7</td>\n",
       "      <td>5399</td>\n",
       "      <td>0.883889</td>\n",
       "      <td>0.333465</td>\n",
       "      <td>NaN</td>\n",
       "      <td>NaN</td>\n",
       "    </tr>\n",
       "    <tr>\n",
       "      <th>17</th>\n",
       "      <td>8</td>\n",
       "      <td>6074</td>\n",
       "      <td>NaN</td>\n",
       "      <td>NaN</td>\n",
       "      <td>0.903518</td>\n",
       "      <td>0.284082</td>\n",
       "    </tr>\n",
       "    <tr>\n",
       "      <th>18</th>\n",
       "      <td>8</td>\n",
       "      <td>6074</td>\n",
       "      <td>0.893148</td>\n",
       "      <td>0.316284</td>\n",
       "      <td>NaN</td>\n",
       "      <td>NaN</td>\n",
       "    </tr>\n",
       "    <tr>\n",
       "      <th>19</th>\n",
       "      <td>9</td>\n",
       "      <td>6749</td>\n",
       "      <td>NaN</td>\n",
       "      <td>NaN</td>\n",
       "      <td>0.894444</td>\n",
       "      <td>0.304982</td>\n",
       "    </tr>\n",
       "    <tr>\n",
       "      <th>20</th>\n",
       "      <td>9</td>\n",
       "      <td>6749</td>\n",
       "      <td>0.898796</td>\n",
       "      <td>0.293140</td>\n",
       "      <td>NaN</td>\n",
       "      <td>NaN</td>\n",
       "    </tr>\n",
       "    <tr>\n",
       "      <th>21</th>\n",
       "      <td>10</td>\n",
       "      <td>7424</td>\n",
       "      <td>NaN</td>\n",
       "      <td>NaN</td>\n",
       "      <td>0.883519</td>\n",
       "      <td>0.385363</td>\n",
       "    </tr>\n",
       "    <tr>\n",
       "      <th>22</th>\n",
       "      <td>10</td>\n",
       "      <td>7424</td>\n",
       "      <td>0.900741</td>\n",
       "      <td>0.288433</td>\n",
       "      <td>NaN</td>\n",
       "      <td>NaN</td>\n",
       "    </tr>\n",
       "    <tr>\n",
       "      <th>23</th>\n",
       "      <td>11</td>\n",
       "      <td>8099</td>\n",
       "      <td>NaN</td>\n",
       "      <td>NaN</td>\n",
       "      <td>0.906852</td>\n",
       "      <td>0.322501</td>\n",
       "    </tr>\n",
       "    <tr>\n",
       "      <th>24</th>\n",
       "      <td>11</td>\n",
       "      <td>8099</td>\n",
       "      <td>0.907824</td>\n",
       "      <td>0.272252</td>\n",
       "      <td>NaN</td>\n",
       "      <td>NaN</td>\n",
       "    </tr>\n",
       "    <tr>\n",
       "      <th>25</th>\n",
       "      <td>12</td>\n",
       "      <td>8774</td>\n",
       "      <td>NaN</td>\n",
       "      <td>NaN</td>\n",
       "      <td>0.920370</td>\n",
       "      <td>0.260888</td>\n",
       "    </tr>\n",
       "    <tr>\n",
       "      <th>26</th>\n",
       "      <td>12</td>\n",
       "      <td>8774</td>\n",
       "      <td>0.910787</td>\n",
       "      <td>0.259971</td>\n",
       "      <td>NaN</td>\n",
       "      <td>NaN</td>\n",
       "    </tr>\n",
       "    <tr>\n",
       "      <th>27</th>\n",
       "      <td>13</td>\n",
       "      <td>9449</td>\n",
       "      <td>NaN</td>\n",
       "      <td>NaN</td>\n",
       "      <td>0.921667</td>\n",
       "      <td>0.252310</td>\n",
       "    </tr>\n",
       "    <tr>\n",
       "      <th>28</th>\n",
       "      <td>13</td>\n",
       "      <td>9449</td>\n",
       "      <td>0.916065</td>\n",
       "      <td>0.250781</td>\n",
       "      <td>NaN</td>\n",
       "      <td>NaN</td>\n",
       "    </tr>\n",
       "    <tr>\n",
       "      <th>29</th>\n",
       "      <td>14</td>\n",
       "      <td>10124</td>\n",
       "      <td>NaN</td>\n",
       "      <td>NaN</td>\n",
       "      <td>0.914630</td>\n",
       "      <td>0.266161</td>\n",
       "    </tr>\n",
       "    <tr>\n",
       "      <th>30</th>\n",
       "      <td>14</td>\n",
       "      <td>10124</td>\n",
       "      <td>0.919491</td>\n",
       "      <td>0.239508</td>\n",
       "      <td>NaN</td>\n",
       "      <td>NaN</td>\n",
       "    </tr>\n",
       "    <tr>\n",
       "      <th>31</th>\n",
       "      <td>15</td>\n",
       "      <td>10799</td>\n",
       "      <td>NaN</td>\n",
       "      <td>NaN</td>\n",
       "      <td>0.917222</td>\n",
       "      <td>0.278914</td>\n",
       "    </tr>\n",
       "    <tr>\n",
       "      <th>32</th>\n",
       "      <td>15</td>\n",
       "      <td>10799</td>\n",
       "      <td>0.923102</td>\n",
       "      <td>0.230998</td>\n",
       "      <td>NaN</td>\n",
       "      <td>NaN</td>\n",
       "    </tr>\n",
       "    <tr>\n",
       "      <th>33</th>\n",
       "      <td>16</td>\n",
       "      <td>11474</td>\n",
       "      <td>NaN</td>\n",
       "      <td>NaN</td>\n",
       "      <td>0.915370</td>\n",
       "      <td>0.281441</td>\n",
       "    </tr>\n",
       "    <tr>\n",
       "      <th>34</th>\n",
       "      <td>16</td>\n",
       "      <td>11474</td>\n",
       "      <td>0.924630</td>\n",
       "      <td>0.220564</td>\n",
       "      <td>NaN</td>\n",
       "      <td>NaN</td>\n",
       "    </tr>\n",
       "    <tr>\n",
       "      <th>35</th>\n",
       "      <td>17</td>\n",
       "      <td>12149</td>\n",
       "      <td>NaN</td>\n",
       "      <td>NaN</td>\n",
       "      <td>0.922037</td>\n",
       "      <td>0.263604</td>\n",
       "    </tr>\n",
       "    <tr>\n",
       "      <th>36</th>\n",
       "      <td>17</td>\n",
       "      <td>12149</td>\n",
       "      <td>0.929769</td>\n",
       "      <td>0.209681</td>\n",
       "      <td>NaN</td>\n",
       "      <td>NaN</td>\n",
       "    </tr>\n",
       "    <tr>\n",
       "      <th>37</th>\n",
       "      <td>18</td>\n",
       "      <td>12824</td>\n",
       "      <td>NaN</td>\n",
       "      <td>NaN</td>\n",
       "      <td>0.920185</td>\n",
       "      <td>0.280134</td>\n",
       "    </tr>\n",
       "    <tr>\n",
       "      <th>38</th>\n",
       "      <td>18</td>\n",
       "      <td>12824</td>\n",
       "      <td>0.928704</td>\n",
       "      <td>0.210599</td>\n",
       "      <td>NaN</td>\n",
       "      <td>NaN</td>\n",
       "    </tr>\n",
       "    <tr>\n",
       "      <th>39</th>\n",
       "      <td>19</td>\n",
       "      <td>13499</td>\n",
       "      <td>NaN</td>\n",
       "      <td>NaN</td>\n",
       "      <td>0.916481</td>\n",
       "      <td>0.270727</td>\n",
       "    </tr>\n",
       "    <tr>\n",
       "      <th>40</th>\n",
       "      <td>19</td>\n",
       "      <td>13499</td>\n",
       "      <td>0.932593</td>\n",
       "      <td>0.200784</td>\n",
       "      <td>NaN</td>\n",
       "      <td>NaN</td>\n",
       "    </tr>\n",
       "    <tr>\n",
       "      <th>41</th>\n",
       "      <td>20</td>\n",
       "      <td>14174</td>\n",
       "      <td>NaN</td>\n",
       "      <td>NaN</td>\n",
       "      <td>0.942407</td>\n",
       "      <td>0.199047</td>\n",
       "    </tr>\n",
       "    <tr>\n",
       "      <th>42</th>\n",
       "      <td>20</td>\n",
       "      <td>14174</td>\n",
       "      <td>0.934537</td>\n",
       "      <td>0.197930</td>\n",
       "      <td>NaN</td>\n",
       "      <td>NaN</td>\n",
       "    </tr>\n",
       "    <tr>\n",
       "      <th>43</th>\n",
       "      <td>21</td>\n",
       "      <td>14849</td>\n",
       "      <td>NaN</td>\n",
       "      <td>NaN</td>\n",
       "      <td>0.915370</td>\n",
       "      <td>0.292189</td>\n",
       "    </tr>\n",
       "    <tr>\n",
       "      <th>44</th>\n",
       "      <td>21</td>\n",
       "      <td>14849</td>\n",
       "      <td>0.940093</td>\n",
       "      <td>0.179475</td>\n",
       "      <td>NaN</td>\n",
       "      <td>NaN</td>\n",
       "    </tr>\n",
       "    <tr>\n",
       "      <th>45</th>\n",
       "      <td>22</td>\n",
       "      <td>15524</td>\n",
       "      <td>NaN</td>\n",
       "      <td>NaN</td>\n",
       "      <td>0.925000</td>\n",
       "      <td>0.278866</td>\n",
       "    </tr>\n",
       "    <tr>\n",
       "      <th>46</th>\n",
       "      <td>22</td>\n",
       "      <td>15524</td>\n",
       "      <td>0.935787</td>\n",
       "      <td>0.191421</td>\n",
       "      <td>NaN</td>\n",
       "      <td>NaN</td>\n",
       "    </tr>\n",
       "    <tr>\n",
       "      <th>47</th>\n",
       "      <td>23</td>\n",
       "      <td>16199</td>\n",
       "      <td>NaN</td>\n",
       "      <td>NaN</td>\n",
       "      <td>0.923704</td>\n",
       "      <td>0.266158</td>\n",
       "    </tr>\n",
       "    <tr>\n",
       "      <th>48</th>\n",
       "      <td>23</td>\n",
       "      <td>16199</td>\n",
       "      <td>0.939768</td>\n",
       "      <td>0.179367</td>\n",
       "      <td>NaN</td>\n",
       "      <td>NaN</td>\n",
       "    </tr>\n",
       "    <tr>\n",
       "      <th>49</th>\n",
       "      <td>24</td>\n",
       "      <td>16874</td>\n",
       "      <td>NaN</td>\n",
       "      <td>NaN</td>\n",
       "      <td>0.944815</td>\n",
       "      <td>0.202763</td>\n",
       "    </tr>\n",
       "    <tr>\n",
       "      <th>50</th>\n",
       "      <td>24</td>\n",
       "      <td>16874</td>\n",
       "      <td>0.940787</td>\n",
       "      <td>0.176042</td>\n",
       "      <td>NaN</td>\n",
       "      <td>NaN</td>\n",
       "    </tr>\n",
       "    <tr>\n",
       "      <th>51</th>\n",
       "      <td>25</td>\n",
       "      <td>16875</td>\n",
       "      <td>NaN</td>\n",
       "      <td>NaN</td>\n",
       "      <td>0.944815</td>\n",
       "      <td>0.202763</td>\n",
       "    </tr>\n",
       "  </tbody>\n",
       "</table>\n",
       "</div>"
      ],
      "text/plain": [
       "    epoch   step  train_acc  train_loss   val_acc  val_loss\n",
       "0       0      0        NaN         NaN  0.092407  2.523409\n",
       "1       0    674        NaN         NaN  0.669259  0.982857\n",
       "2       0    674   0.620880    1.069241       NaN       NaN\n",
       "3       1   1349        NaN         NaN  0.812593  0.532735\n",
       "4       1   1349   0.764907    0.664586       NaN       NaN\n",
       "5       2   2024        NaN         NaN  0.824074  0.494373\n",
       "6       2   2024   0.800185    0.568235       NaN       NaN\n",
       "7       3   2699        NaN         NaN  0.816481  0.531068\n",
       "8       3   2699   0.830648    0.491002       NaN       NaN\n",
       "9       4   3374        NaN         NaN  0.874630  0.378683\n",
       "10      4   3374   0.845602    0.441962       NaN       NaN\n",
       "11      5   4049        NaN         NaN  0.882593  0.346765\n",
       "12      5   4049   0.867963    0.385133       NaN       NaN\n",
       "13      6   4724        NaN         NaN  0.895000  0.323250\n",
       "14      6   4724   0.879676    0.350770       NaN       NaN\n",
       "15      7   5399        NaN         NaN  0.905370  0.301208\n",
       "16      7   5399   0.883889    0.333465       NaN       NaN\n",
       "17      8   6074        NaN         NaN  0.903518  0.284082\n",
       "18      8   6074   0.893148    0.316284       NaN       NaN\n",
       "19      9   6749        NaN         NaN  0.894444  0.304982\n",
       "20      9   6749   0.898796    0.293140       NaN       NaN\n",
       "21     10   7424        NaN         NaN  0.883519  0.385363\n",
       "22     10   7424   0.900741    0.288433       NaN       NaN\n",
       "23     11   8099        NaN         NaN  0.906852  0.322501\n",
       "24     11   8099   0.907824    0.272252       NaN       NaN\n",
       "25     12   8774        NaN         NaN  0.920370  0.260888\n",
       "26     12   8774   0.910787    0.259971       NaN       NaN\n",
       "27     13   9449        NaN         NaN  0.921667  0.252310\n",
       "28     13   9449   0.916065    0.250781       NaN       NaN\n",
       "29     14  10124        NaN         NaN  0.914630  0.266161\n",
       "30     14  10124   0.919491    0.239508       NaN       NaN\n",
       "31     15  10799        NaN         NaN  0.917222  0.278914\n",
       "32     15  10799   0.923102    0.230998       NaN       NaN\n",
       "33     16  11474        NaN         NaN  0.915370  0.281441\n",
       "34     16  11474   0.924630    0.220564       NaN       NaN\n",
       "35     17  12149        NaN         NaN  0.922037  0.263604\n",
       "36     17  12149   0.929769    0.209681       NaN       NaN\n",
       "37     18  12824        NaN         NaN  0.920185  0.280134\n",
       "38     18  12824   0.928704    0.210599       NaN       NaN\n",
       "39     19  13499        NaN         NaN  0.916481  0.270727\n",
       "40     19  13499   0.932593    0.200784       NaN       NaN\n",
       "41     20  14174        NaN         NaN  0.942407  0.199047\n",
       "42     20  14174   0.934537    0.197930       NaN       NaN\n",
       "43     21  14849        NaN         NaN  0.915370  0.292189\n",
       "44     21  14849   0.940093    0.179475       NaN       NaN\n",
       "45     22  15524        NaN         NaN  0.925000  0.278866\n",
       "46     22  15524   0.935787    0.191421       NaN       NaN\n",
       "47     23  16199        NaN         NaN  0.923704  0.266158\n",
       "48     23  16199   0.939768    0.179367       NaN       NaN\n",
       "49     24  16874        NaN         NaN  0.944815  0.202763\n",
       "50     24  16874   0.940787    0.176042       NaN       NaN\n",
       "51     25  16875        NaN         NaN  0.944815  0.202763"
      ]
     },
     "execution_count": 69,
     "metadata": {},
     "output_type": "execute_result"
    }
   ],
   "source": [
    "results = pd.read_csv(logger.log_dir+\"/metrics.csv\")\n",
    "results"
   ]
  },
  {
   "cell_type": "code",
   "execution_count": 70,
   "id": "0660b2dc-1b75-4698-bb7a-ea3dfb5facc0",
   "metadata": {},
   "outputs": [
    {
     "data": {
      "image/png": "[encoded data removed]",
      "text/plain": [
       "<Figure size 640x480 with 1 Axes>"
      ]
     },
     "metadata": {},
     "output_type": "display_data"
    }
   ],
   "source": [
    "plt.plot(results[\"epoch\"][np.logical_not(np.isnan(results[\"train_loss\"]))],\n",
    "         results[\"train_loss\"][np.logical_not(np.isnan(results[\"train_loss\"]))],\n",
    "         label=\"Training\")\n",
    "plt.plot(results[\"epoch\"][np.logical_not(np.isnan(results[\"val_loss\"]))],\n",
    "         results[\"val_loss\"][np.logical_not(np.isnan(results[\"val_loss\"]))],\n",
    "         label=\"Validation\")\n",
    "plt.legend()\n",
    "plt.ylabel(\"CCE Loss\")\n",
    "plt.xlabel(\"Epoch\")\n",
    "plt.show()"
   ]
  },
  {
   "cell_type": "code",
   "execution_count": 71,
   "id": "39413f21-6c3a-45b7-80d0-6076e26529ea",
   "metadata": {},
   "outputs": [
    {
     "data": {
      "image/png": "[encoded data removed]",
      "text/plain": [
       "<Figure size 640x480 with 1 Axes>"
      ]
     },
     "metadata": {},
     "output_type": "display_data"
    }
   ],
   "source": [
    "plt.plot(results[\"epoch\"][np.logical_not(np.isnan(results[\"train_acc\"]))],\n",
    "         results[\"train_acc\"][np.logical_not(np.isnan(results[\"train_acc\"]))],\n",
    "         label=\"Training\")\n",
    "plt.plot(results[\"epoch\"][np.logical_not(np.isnan(results[\"val_acc\"]))],\n",
    "         results[\"val_acc\"][np.logical_not(np.isnan(results[\"val_acc\"]))],\n",
    "         label=\"Validation\")\n",
    "plt.legend()\n",
    "plt.ylabel(\"Accuracy\")\n",
    "plt.xlabel(\"Epoch\")\n",
    "plt.show()"
   ]
  },
  {
   "cell_type": "code",
   "execution_count": 73,
   "id": "581928c5-d244-4d51-a29d-5c889fb3fed4",
   "metadata": {},
   "outputs": [
    {
     "name": "stdout",
     "output_type": "stream",
     "text": [
      "Test Accuracy: 0.9448148012161256\n"
     ]
    }
   ],
   "source": [
    "print(\"Test Accuracy:\", results['val_acc'][np.logical_not(np.isnan(results['val_acc']))].iloc[-1])"
   ]
  },
  {
   "cell_type": "code",
   "execution_count": null,
   "id": "5b890935-3690-48dd-a510-c1c2161cee3c",
   "metadata": {},
   "outputs": [],
   "source": []
  }
 ],
 "metadata": {
  "kernelspec": {
   "display_name": ".venv",
   "language": "python",
   "name": "python3"
  },
  "language_info": {
   "codemirror_mode": {
    "name": "ipython",
    "version": 3
   },
   "file_extension": ".py",
   "mimetype": "text/x-python",
   "name": "python",
   "nbconvert_exporter": "python",
   "pygments_lexer": "ipython3",
   "version": "3.12.1"
  }
 },
 "nbformat": 4,
 "nbformat_minor": 5
}
