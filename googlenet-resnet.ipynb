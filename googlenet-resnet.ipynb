{
 "cells": [
  {
   "cell_type": "markdown",
   "id": "8bc38b5a-d9f0-4e14-bb81-2bb0e6cd48c8",
   "metadata": {},
   "source": [
    "## Project Testing"
   ]
  },
  {
   "cell_type": "markdown",
   "id": "d3c2ea5c-09c0-44d4-8711-aee6bd5df28a",
   "metadata": {},
   "source": [
    "### Necessary Imports"
   ]
  },
  {
   "cell_type": "code",
   "execution_count": 1,
   "id": "b797bc9b-a13d-49c4-b2ab-08e9aaedfb75",
   "metadata": {},
   "outputs": [],
   "source": [
    "import os\n",
    "import numpy as np\n",
    "import pandas as pd\n",
    "from torchinfo import summary\n",
    "import lightning.pytorch as pl\n",
    "import matplotlib.pyplot as plt\n",
    "import torchvision.transforms as T\n",
    "import torch, torchvision, torchmetrics, imageio\n",
    "\n",
    "from tqdm import tqdm\n",
    "from colorama import Fore\n",
    "from sklearn import preprocessing\n",
    "from skimage.transform import resize\n",
    "from skimage import img_as_float32, img_as_ubyte\n",
    "from sklearn.model_selection import train_test_split\n",
    "\n",
    "# Minor tensor-core speedup\n",
    "torch.set_float32_matmul_precision('medium')"
   ]
  },
  {
   "cell_type": "code",
   "execution_count": 2,
   "id": "675f5c8c-3286-4f8f-8a85-29d81b0052a2",
   "metadata": {},
   "outputs": [],
   "source": [
    "import os\n",
    "os.environ['http_proxy'] = 'http://10.72.8.25:8080'\n",
    "os.environ['https_proxy'] = 'http://10.72.8.25:8080'"
   ]
  },
  {
   "cell_type": "markdown",
   "id": "6ddde8e5-5380-400f-82cb-621e3b2d3f37",
   "metadata": {},
   "source": [
    "---"
   ]
  },
  {
   "cell_type": "code",
   "execution_count": 3,
   "id": "e499ce53-cf79-4272-9189-ec934c8f32b5",
   "metadata": {},
   "outputs": [],
   "source": [
    "class EuroSATDataModule(pl.LightningDataModule):\n",
    "    def __init__(self,\n",
    "                 batch_size = 64,\n",
    "                 val_split = 0.2,\n",
    "                 num_workers = 4,\n",
    "                 location = './data',\n",
    "                 download = True,\n",
    "                 **kwargs):\n",
    "        super().__init__(**kwargs)\n",
    "        self.batch_size = batch_size\n",
    "        self.val_split = val_split\n",
    "        self.num_workers = num_workers\n",
    "        self.location = location\n",
    "        self.input_shape = None\n",
    "        self.output_shape = None\n",
    "        self.data_train = None\n",
    "        self.data_val = None\n",
    "        self.data_test = None\n",
    "        self.download = download\n",
    "\n",
    "        self.size = [64, 64]\n",
    "        self.N = 27000\n",
    "        self.extracted = '2750'\n",
    "        self._load_data()\n",
    "\n",
    "    def _load_data(self):\n",
    "        images = np.zeros(\n",
    "            [self.N, self.size[0], self.size[1], 3], dtype=\"uint8\")\n",
    "        labels = []\n",
    "        filenames = []\n",
    "\n",
    "        if self.download:\n",
    "            self.download_dataset()\n",
    "\n",
    "        if not self._check_exists():\n",
    "            raise RuntimeError(\n",
    "                \"Dataset not found. You can use download=True to download it\"\n",
    "            )\n",
    "\n",
    "        i = 0\n",
    "        data_dir = os.path.join(self.location, self.extracted)\n",
    "\n",
    "        with tqdm(os.listdir(data_dir), bar_format = \"{l_bar}%s{bar}%s{r_bar}\" % (Fore.GREEN, Fore.RESET)) as dir_bar:\n",
    "            for item in dir_bar:\n",
    "                f = os.path.join(data_dir, item)\n",
    "                if os.path.isfile(f):\n",
    "                    continue\n",
    "                for subitem in os.listdir(f):\n",
    "                    sub_f = os.path.join(f, subitem)\n",
    "                    filenames.append(sub_f)\n",
    "\n",
    "                    # a few images are a few pixels off, we will resize them\n",
    "                    image = imageio.imread(sub_f)\n",
    "                    if image.shape[0] != self.size[0] or image.shape[1] != self.size[1]:\n",
    "                        # print(\"Resizing image...\")\n",
    "                        image = img_as_ubyte(\n",
    "                            resize(\n",
    "                                image, (self.size[0], self.size[1]), anti_aliasing=True)\n",
    "                        )\n",
    "                    images[i] = img_as_ubyte(image)\n",
    "                    i += 1\n",
    "                    labels.append(item)\n",
    "\n",
    "                dir_bar.set_postfix(category=item)\n",
    "\n",
    "        labels = np.asarray(labels)\n",
    "        filenames = np.asarray(filenames)\n",
    "\n",
    "        # sort by filenames\n",
    "        images = images[filenames.argsort()]\n",
    "        labels = labels[filenames.argsort()]\n",
    "\n",
    "        # convert to integer labels\n",
    "        label_encoder = preprocessing.LabelEncoder()\n",
    "        label_encoder.fit(np.sort(np.unique(labels)))\n",
    "        labels = label_encoder.transform(labels)\n",
    "        labels = np.asarray(labels)\n",
    "        # remember label encoding\n",
    "        self.label_encoding = list(label_encoder.classes_)\n",
    "\n",
    "        self.data = images\n",
    "        self.targets = labels\n",
    "    \n",
    "    def setup(self, stage: str):\n",
    "        if (stage == 'fit' or \\\n",
    "            stage == 'validate') and \\\n",
    "            not(self.data_train and self.data_val):\n",
    "            x_train = self.data.transpose((0,3,1,2))\n",
    "            y_train = np.array(self.targets)\n",
    "            self.input_shape = x_train.shape[1:]\n",
    "            self.output_shape = (len(np.unique(y_train)),)\n",
    "            rng = np.random.default_rng()\n",
    "            permutation = rng.permutation(x_train.shape[0])\n",
    "            split_point = int(x_train.shape[0]*(1.0-self.val_split))\n",
    "            self.data_train = list(zip(torch.Tensor(x_train[permutation[:split_point]]).to(torch.float32),\n",
    "                                       torch.Tensor(y_train[permutation[:split_point]]).to(torch.long)))\n",
    "            self.data_val = list(zip(torch.Tensor(x_train[permutation[split_point:]]).to(torch.float32),\n",
    "                                     torch.Tensor(y_train[permutation[split_point:]]).to(torch.long)))\n",
    "\n",
    "    def __len__(self):\n",
    "        return len(self.data)\n",
    "\n",
    "    def __getitem__(self, idx):\n",
    "        if torch.is_tensor(idx):\n",
    "            idx = idx.tolist()\n",
    "\n",
    "        img = self.data[idx]\n",
    "\n",
    "        # doing this so that it is consistent with all other datasets\n",
    "        # to return a PIL Image\n",
    "        # img = Image.fromarray(img)\n",
    "\n",
    "        if self.transform:\n",
    "            img = self.transform(img)\n",
    "\n",
    "        image = np.asarray(img / 255, dtype=\"float32\")\n",
    "\n",
    "        return image.transpose(2, 0, 1), self.targets[idx]\n",
    "\n",
    "    def _check_exists(self) -> bool:\n",
    "        \"\"\"\n",
    "        Check the Root directory is exists\n",
    "        \"\"\"\n",
    "        return os.path.exists(self.location)\n",
    "\n",
    "    def download_dataset(self) -> None:\n",
    "        \"\"\"\n",
    "        Download the dataset from the internet\n",
    "        \"\"\"\n",
    "\n",
    "        if self._check_exists():\n",
    "            return\n",
    "\n",
    "        os.makedirs(self.location, exist_ok = True)\n",
    "        torchvision.datasets.utils.download_and_extract_archive(\n",
    "            \"https://madm.dfki.de/files/sentinel/EuroSAT.zip\",\n",
    "            download_root = self.location,\n",
    "            md5 = \"c8fa014336c82ac7804f0398fcb19387\",\n",
    "        )\n",
    "\n",
    "    def train_dataloader(self):\n",
    "        return torch.utils.data.DataLoader(self.data_train,\n",
    "                                           batch_size=self.batch_size,\n",
    "                                           num_workers=self.num_workers,\n",
    "                                           shuffle=True)\n",
    "\n",
    "    def val_dataloader(self):\n",
    "        return torch.utils.data.DataLoader(self.data_val,\n",
    "                                           batch_size=self.batch_size,\n",
    "                                           num_workers=self.num_workers,\n",
    "                                           shuffle=False)\n",
    "\n",
    "    def test_dataloader(self):\n",
    "        return torch.utils.data.DataLoader(self.data_test,\n",
    "                                           batch_size=self.batch_size,\n",
    "                                           num_workers=self.num_workers,\n",
    "                                           shuffle=False)\n",
    "\n",
    "    def predict_dataloader(self):\n",
    "        return torch.utils.data.DataLoader(self.data_test,\n",
    "                                           batch_size=self.batch_size,\n",
    "                                           num_workers=self.num_workers,\n",
    "                                           shuffle=False)"
   ]
  },
  {
   "cell_type": "code",
   "execution_count": 4,
   "id": "693524b3-1c33-41e4-9c7e-cce9421760c9",
   "metadata": {},
   "outputs": [],
   "source": [
    "import ssl\n",
    "ssl._create_default_https_context = ssl._create_unverified_context"
   ]
  },
  {
   "cell_type": "code",
   "execution_count": 5,
   "id": "08b9ba4e-ea7a-4b81-bf39-512cc36759e5",
   "metadata": {
    "scrolled": true
   },
   "outputs": [
    {
     "name": "stderr",
     "output_type": "stream",
     "text": [
      "  0%|\u001b[32m          \u001b[39m| 0/10 [00:00<?, ?it/s]/tmp/job.1512693/ipykernel_1901522/3304602773.py:53: DeprecationWarning: Starting with ImageIO v3 the behavior of this function will switch to that of iio.v3.imread. To keep the current behavior (and make this warning disappear) use `import imageio.v2 as imageio` or call `imageio.v2.imread` directly.\n",
      "  image = imageio.imread(sub_f)\n",
      "100%|\u001b[32m██████████\u001b[39m| 10/10 [20:46<00:00, 124.62s/it, category=Forest]             \n"
     ]
    }
   ],
   "source": [
    "data_module = EuroSATDataModule(batch_size = 64)"
   ]
  },
  {
   "cell_type": "code",
   "execution_count": 6,
   "id": "9cbde044-b171-4974-a752-32ee1c76ef91",
   "metadata": {},
   "outputs": [],
   "source": [
    "data_module.setup('fit')"
   ]
  },
  {
   "cell_type": "code",
   "execution_count": 7,
   "id": "c709c754-dff8-40aa-beb1-a67edbc6888c",
   "metadata": {},
   "outputs": [
    {
     "data": {
      "text/plain": [
       "64"
      ]
     },
     "execution_count": 7,
     "metadata": {},
     "output_type": "execute_result"
    }
   ],
   "source": [
    "data_module.batch_size"
   ]
  },
  {
   "cell_type": "code",
   "execution_count": 8,
   "id": "59a98ffe-ee18-41f1-97bb-8260d6065274",
   "metadata": {},
   "outputs": [],
   "source": [
    "dl = data_module.train_dataloader()"
   ]
  },
  {
   "cell_type": "code",
   "execution_count": 9,
   "id": "fd1df5c5-9e36-48c7-9977-434075fb2dbd",
   "metadata": {},
   "outputs": [],
   "source": [
    "batch = next(iter(dl))"
   ]
  },
  {
   "cell_type": "code",
   "execution_count": 10,
   "id": "a69742e2-9381-42aa-8dc7-5bfa991603bb",
   "metadata": {
    "scrolled": true
   },
   "outputs": [
    {
     "data": {
      "text/plain": [
       "[tensor([[[[ 24.,  24.,  24.,  ...,  24.,  25.,  25.],\n",
       "           [ 24.,  24.,  24.,  ...,  24.,  25.,  25.],\n",
       "           [ 24.,  24.,  24.,  ...,  24.,  25.,  24.],\n",
       "           ...,\n",
       "           [ 45.,  45.,  41.,  ...,  59.,  58.,  58.],\n",
       "           [ 52.,  50.,  51.,  ...,  80.,  71.,  61.],\n",
       "           [ 59.,  58.,  63.,  ..., 147.,  95.,  66.]],\n",
       " \n",
       "          [[ 62.,  62.,  61.,  ...,  62.,  61.,  61.],\n",
       "           [ 62.,  62.,  62.,  ...,  62.,  61.,  61.],\n",
       "           [ 60.,  60.,  62.,  ...,  61.,  61.,  60.],\n",
       "           ...,\n",
       "           [ 70.,  70.,  66.,  ...,  90.,  87.,  87.],\n",
       "           [ 71.,  71.,  75.,  ..., 100.,  90.,  80.],\n",
       "           [ 77.,  77.,  84.,  ..., 161., 110.,  81.]],\n",
       " \n",
       "          [[ 85.,  85.,  87.,  ...,  85.,  85.,  85.],\n",
       "           [ 85.,  85.,  85.,  ...,  85.,  85.,  85.],\n",
       "           [ 82.,  82.,  83.,  ...,  87.,  87.,  86.],\n",
       "           ...,\n",
       "           [ 75.,  77.,  73.,  ...,  95.,  93.,  93.],\n",
       "           [ 77.,  76.,  79.,  ..., 101.,  94.,  84.],\n",
       "           [ 81.,  81.,  87.,  ..., 161., 113.,  84.]]],\n",
       " \n",
       " \n",
       "         [[[169., 168., 166.,  ..., 222., 228., 231.],\n",
       "           [169., 168., 166.,  ..., 221., 228., 231.],\n",
       "           [167., 167., 166.,  ..., 224., 226., 227.],\n",
       "           ...,\n",
       "           [170., 170., 170.,  ..., 109., 115., 118.],\n",
       "           [172., 172., 171.,  ..., 102., 110., 114.],\n",
       "           [172., 172., 171.,  ..., 101., 107., 108.]],\n",
       " \n",
       "          [[135., 135., 133.,  ..., 171., 175., 175.],\n",
       "           [135., 135., 133.,  ..., 170., 175., 175.],\n",
       "           [134., 134., 133.,  ..., 173., 173., 174.],\n",
       "           ...,\n",
       "           [136., 136., 136.,  ...,  98., 102., 103.],\n",
       "           [138., 138., 137.,  ...,  92.,  97.,  99.],\n",
       "           [138., 138., 137.,  ...,  91.,  94.,  93.]],\n",
       " \n",
       "          [[126., 126., 128.,  ..., 154., 157., 158.],\n",
       "           [126., 128., 126.,  ..., 153., 157., 158.],\n",
       "           [127., 127., 126.,  ..., 154., 155., 156.],\n",
       "           ...,\n",
       "           [126., 127., 127.,  ..., 106., 109., 108.],\n",
       "           [129., 129., 128.,  ..., 100., 104., 106.],\n",
       "           [129., 129., 128.,  ...,  99., 103., 100.]]],\n",
       " \n",
       " \n",
       "         [[[ 43.,  44.,  41.,  ...,  43.,  43.,  43.],\n",
       "           [ 43.,  43.,  43.,  ...,  42.,  43.,  43.],\n",
       "           [ 42.,  42.,  44.,  ...,  44.,  43.,  41.],\n",
       "           ...,\n",
       "           [ 46.,  45.,  45.,  ...,  42.,  42.,  41.],\n",
       "           [ 49.,  48.,  46.,  ...,  42.,  41.,  41.],\n",
       "           [ 43.,  43.,  40.,  ...,  41.,  39.,  41.]],\n",
       " \n",
       "          [[ 79.,  80.,  80.,  ...,  77.,  79.,  79.],\n",
       "           [ 79.,  79.,  79.,  ...,  76.,  79.,  79.],\n",
       "           [ 78.,  78.,  78.,  ...,  78.,  77.,  75.],\n",
       "           ...,\n",
       "           [ 87.,  88.,  86.,  ...,  83.,  83.,  82.],\n",
       "           [ 88.,  89.,  85.,  ...,  85.,  82.,  82.],\n",
       "           [ 82.,  82.,  78.,  ...,  84.,  80.,  82.]],\n",
       " \n",
       "          [[ 79.,  80.,  77.,  ...,  76.,  79.,  79.],\n",
       "           [ 79.,  79.,  77.,  ...,  75.,  79.,  79.],\n",
       "           [ 76.,  76.,  79.,  ...,  77.,  78.,  77.],\n",
       "           ...,\n",
       "           [ 81.,  81.,  82.,  ...,  79.,  79.,  78.],\n",
       "           [ 85.,  85.,  84.,  ...,  78.,  78.,  78.],\n",
       "           [ 79.,  79.,  79.,  ...,  77.,  76.,  78.]]],\n",
       " \n",
       " \n",
       "         ...,\n",
       " \n",
       " \n",
       "         [[[ 52.,  51.,  54.,  ...,  53.,  53.,  53.],\n",
       "           [ 52.,  52.,  52.,  ...,  53.,  53.,  53.],\n",
       "           [ 55.,  53.,  53.,  ...,  54.,  54.,  54.],\n",
       "           ...,\n",
       "           [ 49.,  49.,  52.,  ...,  44.,  42.,  41.],\n",
       "           [ 48.,  48.,  49.,  ...,  47.,  51.,  52.],\n",
       "           [ 46.,  46.,  48.,  ...,  50.,  59.,  59.]],\n",
       " \n",
       "          [[ 93.,  92.,  91.,  ...,  94.,  92.,  92.],\n",
       "           [ 91.,  91.,  92.,  ...,  94.,  92.,  92.],\n",
       "           [ 91.,  92.,  92.,  ...,  94.,  94.,  94.],\n",
       "           ...,\n",
       "           [ 80.,  80.,  84.,  ...,  80.,  76.,  75.],\n",
       "           [ 82.,  82.,  83.,  ...,  81.,  85.,  83.],\n",
       "           [ 82.,  82.,  82.,  ...,  84.,  91.,  91.]],\n",
       " \n",
       "          [[ 87.,  86.,  84.,  ...,  86.,  87.,  87.],\n",
       "           [ 86.,  86.,  84.,  ...,  86.,  87.,  87.],\n",
       "           [ 87.,  87.,  87.,  ...,  86.,  86.,  86.],\n",
       "           ...,\n",
       "           [ 82.,  82.,  83.,  ...,  80.,  78.,  77.],\n",
       "           [ 83.,  83.,  84.,  ...,  82.,  86.,  85.],\n",
       "           [ 82.,  82.,  83.,  ...,  85.,  90.,  90.]]],\n",
       " \n",
       " \n",
       "         [[[132., 132., 118.,  ..., 139., 144., 143.],\n",
       "           [130., 130., 118.,  ..., 139., 144., 143.],\n",
       "           [108., 109., 114.,  ..., 135., 138., 144.],\n",
       "           ...,\n",
       "           [ 78.,  78.,  77.,  ..., 127., 117., 133.],\n",
       "           [ 79.,  79.,  84.,  ..., 136., 121., 134.],\n",
       "           [ 84.,  84.,  89.,  ..., 119., 125., 143.]],\n",
       " \n",
       "          [[114., 114., 102.,  ..., 108., 110., 109.],\n",
       "           [115., 115., 102.,  ..., 108., 110., 109.],\n",
       "           [ 98.,  97., 102.,  ..., 103., 104., 110.],\n",
       "           ...,\n",
       "           [ 88.,  88.,  87.,  ..., 106.,  95., 113.],\n",
       "           [ 86.,  87.,  92.,  ..., 116., 101., 116.],\n",
       "           [ 89.,  89.,  94.,  ..., 101., 107., 125.]],\n",
       " \n",
       "          [[110., 112., 102.,  ..., 106., 109., 108.],\n",
       "           [112., 112., 103.,  ..., 106., 109., 108.],\n",
       "           [ 97.,  97., 102.,  ..., 104., 103., 109.],\n",
       "           ...,\n",
       "           [ 90.,  89.,  89.,  ..., 105.,  97., 115.],\n",
       "           [ 92.,  90.,  94.,  ..., 115., 102., 116.],\n",
       "           [ 95.,  93.,  97.,  ...,  99., 107., 125.]]],\n",
       " \n",
       " \n",
       "         [[[ 97.,  95.,  93.,  ...,  65.,  66.,  67.],\n",
       "           [ 97.,  97.,  93.,  ...,  65.,  66.,  67.],\n",
       "           [105., 105., 100.,  ...,  64.,  65.,  66.],\n",
       "           ...,\n",
       "           [ 74.,  71.,  47.,  ..., 121., 123., 121.],\n",
       "           [104.,  99.,  54.,  ..., 119., 124., 123.],\n",
       "           [127., 120.,  76.,  ..., 118., 123., 121.]],\n",
       " \n",
       "          [[103., 104., 102.,  ...,  71.,  69.,  70.],\n",
       "           [101., 103., 102.,  ...,  71.,  69.,  70.],\n",
       "           [107., 106., 106.,  ...,  70.,  68.,  69.],\n",
       "           ...,\n",
       "           [ 84.,  85.,  68.,  ..., 105., 107., 105.],\n",
       "           [ 98., 100.,  69.,  ..., 104., 107., 107.],\n",
       "           [113., 116.,  87.,  ..., 103., 106., 104.]],\n",
       " \n",
       "          [[103., 103., 101.,  ...,  85.,  86.,  87.],\n",
       "           [102., 103., 101.,  ...,  85.,  86.,  87.],\n",
       "           [106., 108., 106.,  ...,  84.,  85.,  86.],\n",
       "           ...,\n",
       "           [ 86.,  88.,  73.,  ..., 108., 110., 106.],\n",
       "           [100., 102.,  74.,  ..., 109., 113., 110.],\n",
       "           [113., 117.,  91.,  ..., 108., 112., 110.]]]]),\n",
       " tensor([9, 0, 5, 9, 9, 9, 2, 1, 1, 7, 3, 2, 4, 2, 0, 6, 6, 5, 7, 2, 4, 7, 7, 6,\n",
       "         8, 9, 0, 6, 2, 3, 0, 8, 1, 7, 8, 3, 4, 1, 9, 8, 5, 6, 6, 8, 9, 6, 2, 0,\n",
       "         2, 4, 9, 0, 6, 0, 2, 9, 5, 7, 2, 0, 9, 3, 2, 3])]"
      ]
     },
     "execution_count": 10,
     "metadata": {},
     "output_type": "execute_result"
    }
   ],
   "source": [
    "batch"
   ]
  },
  {
   "cell_type": "code",
   "execution_count": null,
   "id": "99726352-46af-4722-93b4-bad27209092f",
   "metadata": {},
   "outputs": [],
   "source": []
  },
  {
   "cell_type": "markdown",
   "id": "74ec5320-4378-4cb4-a0d4-8bbaaf22e134",
   "metadata": {},
   "source": [
    "---"
   ]
  },
  {
   "cell_type": "markdown",
   "id": "8f94e7d5-36c7-4cd1-b521-62a03048c607",
   "metadata": {},
   "source": [
    "### Maybe some of the fuckin classes now"
   ]
  },
  {
   "cell_type": "markdown",
   "id": "c69a4b5b-8715-4053-9000-9325d3b01c30",
   "metadata": {},
   "source": [
    "class SinePositionEmbedding(pl.LightningModule):\n",
    "    def __init__(self,\n",
    "                 max_wavelength=10000.0,\n",
    "                 **kwargs):\n",
    "        super().__init__(**kwargs)\n",
    "        self.max_wavelength = torch.Tensor([max_wavelength])\n",
    "\n",
    "    def forward(self, x):\n",
    "        input_shape = x.shape\n",
    "        seq_length = x.shape[-2]\n",
    "        hidden_size = x.shape[-1]\n",
    "        position = torch.arange(seq_length).type_as(x)\n",
    "        min_freq = (1 / self.max_wavelength).type_as(x)\n",
    "        timescales = torch.pow(\n",
    "            min_freq,\n",
    "            (2 * (torch.arange(hidden_size) // 2)).type_as(x)\n",
    "            / torch.Tensor([hidden_size]).type_as(x)\n",
    "        )\n",
    "        angles = torch.unsqueeze(position, 1) * torch.unsqueeze(timescales, 0)\n",
    "        cos_mask = (torch.arange(hidden_size) % 2).type_as(x)\n",
    "        sin_mask = 1 - cos_mask\n",
    "        positional_encodings = (\n",
    "            torch.sin(angles) * sin_mask + torch.cos(angles) * cos_mask\n",
    "        )\n",
    "        return torch.broadcast_to(positional_encodings, input_shape)"
   ]
  },
  {
   "cell_type": "markdown",
   "id": "a5783806-a39e-4b87-aef2-e8b64d2f2426",
   "metadata": {},
   "source": [
    "class MLP(pl.LightningModule):\n",
    "    def __init__(self,\n",
    "                 latent_size = 64,\n",
    "                 dropout = 0.1,\n",
    "                 **kwargs):\n",
    "        super().__init__(**kwargs)\n",
    "        self.linear1 = torch.nn.Linear(latent_size,\n",
    "                                       latent_size)\n",
    "        self.activation = torch.nn.GELU()\n",
    "        self.linear2 = torch.nn.Linear(latent_size,\n",
    "                                       latent_size)\n",
    "        self.dropout = torch.nn.Dropout(dropout)\n",
    "\n",
    "    def forward(self, x):\n",
    "        x = self.linear1(x)\n",
    "        x = self.activation(x)\n",
    "        x = self.dropout(x)\n",
    "        x = self.linear2(x)\n",
    "        x = self.dropout(x)\n",
    "        return x"
   ]
  },
  {
   "cell_type": "markdown",
   "id": "cbcb7bee-6831-42ac-8e13-a2c3843f1103",
   "metadata": {},
   "source": [
    "class TransformerBlock(pl.LightningModule):\n",
    "    def __init__(self,\n",
    "                 latent_size = 64,\n",
    "                 num_heads = 4,\n",
    "                 dropout = 0.1,\n",
    "                 **kwargs):\n",
    "        super().__init__(**kwargs)\n",
    "        self.layer_norm1 = torch.nn.LayerNorm(latent_size)\n",
    "        self.layer_norm2 = torch.nn.LayerNorm(latent_size)\n",
    "        self.dropout = torch.nn.Dropout(dropout)\n",
    "        self.activation = torch.nn.GELU()\n",
    "        self.linear = torch.nn.Linear(latent_size,\n",
    "                                      latent_size)\n",
    "        self.mha = torch.nn.MultiheadAttention(latent_size,\n",
    "                                               num_heads,\n",
    "                                               dropout=dropout,\n",
    "                                               batch_first=True)\n",
    "        self.mlp = MLP(latent_size,\n",
    "                       dropout=dropout)\n",
    "    def forward(self, x):\n",
    "        y = x\n",
    "        y = self.layer_norm1(y)\n",
    "        y = self.mha(y,y,y)[0]\n",
    "        x = y = x + y\n",
    "        y = self.layer_norm2(y)\n",
    "        # y = self.linear(y) # Will probably replace this with an MLP block??\n",
    "        y = self.mlp(y)\n",
    "        y = self.dropout(y)\n",
    "        y = self.activation(y)\n",
    "        return x + y"
   ]
  },
  {
   "cell_type": "code",
   "execution_count": 122,
   "id": "73944b16-732c-4e70-8f7e-1c112c0cc576",
   "metadata": {},
   "outputs": [],
   "source": [
    "# Define Trainable Module (Abstract Base Class)\n",
    "class LightningBoilerplate(pl.LightningModule):\n",
    "    def __init__(self, **kwargs):\n",
    "        # This is the contructor, where we typically make\n",
    "        # layer objects using provided arguments.\n",
    "        super().__init__(**kwargs) # Call the super class constructor\n",
    "        \n",
    "    def predict_step(self, predict_batch, batch_idx):\n",
    "        x, y_true = predict_batch\n",
    "        y_pred = self.predict(x)\n",
    "        return y_pred, y_true\n",
    "\n",
    "    def training_step(self, train_batch, batch_idx):\n",
    "        x, y_true = train_batch\n",
    "        y_pred, _, _ = self(x)\n",
    "        # print(y_pred[0])\n",
    "        for metric_name, metric_function in self.network_metrics.items():\n",
    "            metric_value = metric_function(y_pred,y_true)\n",
    "            self.log('train_'+metric_name, metric_value, on_step=False, on_epoch=True)\n",
    "        loss = self.network_loss(y_pred,y_true)\n",
    "        self.log('train_loss', loss, on_step=False, on_epoch=True)\n",
    "        return loss\n",
    "        \n",
    "    def validation_step(self, val_batch, batch_idx):\n",
    "        x, y_true = val_batch\n",
    "        y_pred = self(x)\n",
    "        for metric_name, metric_function in self.network_metrics.items():\n",
    "            metric_value = metric_function(y_pred,y_true)\n",
    "            self.log('val_'+metric_name, metric_value, on_step=False, on_epoch=True)\n",
    "        loss = self.network_loss(y_pred,y_true)\n",
    "        self.log('val_loss', loss, on_step=False, on_epoch=True)\n",
    "        return loss\n",
    "        \n",
    "    def test_step(self, test_batch, batch_idx):\n",
    "        x, y_true = test_batch\n",
    "        y_pred = self(x)\n",
    "        for metric_name, metric_function in self.network_metrics.items():\n",
    "            metric_value = metric_function(y_pred,y_true)\n",
    "            self.log('test_'+metric_name, metric_value, on_step=False, on_epoch=True)\n",
    "        loss = self.network_loss(y_pred,y_true)\n",
    "        self.log('test_loss', loss, on_step=False, on_epoch=True)\n",
    "        return loss"
   ]
  },
  {
   "cell_type": "code",
   "execution_count": 123,
   "id": "144ed248-4f64-4b96-abb4-fd4728f91357",
   "metadata": {},
   "outputs": [],
   "source": [
    "# Attach loss, metrics, and optimizer\n",
    "class MultiClassLightningModule(LightningBoilerplate):\n",
    "    def __init__(self,\n",
    "                 num_classes,\n",
    "                 **kwargs):\n",
    "        # This is the contructor, where we typically make\n",
    "        # layer objects using provided arguments.\n",
    "        super().__init__(**kwargs) # Call the super class constructor\n",
    "\n",
    "        # This creates an accuracy function\n",
    "        self.network_metrics = torch.nn.ModuleDict({\n",
    "            'acc': torchmetrics.classification.Accuracy(task='multiclass',\n",
    "                                                        num_classes=num_classes)\n",
    "        })\n",
    "        # This creates a loss function\n",
    "        # self.network_loss = torch.nn.CrossEntropyLoss(output.logits, torch.randint(0, 1000, (2,)))\n",
    "        self.network_loss = torch.nn.CrossEntropyLoss()\n",
    "        # output.logits, torch.randint(0, 1000, (2,))\n",
    "\n",
    "    def configure_optimizers(self):\n",
    "        optimizer = torch.optim.Adam(self.parameters(), lr=0.001)\n",
    "        return optimizer"
   ]
  },
  {
   "cell_type": "code",
   "execution_count": 124,
   "id": "b23951ec-f4a6-4ef1-9f16-9231a59c70f5",
   "metadata": {},
   "outputs": [],
   "source": [
    "# Attach standardization and augmentation\n",
    "class StandardizeTransformModule(MultiClassLightningModule):\n",
    "    def __init__(self,**kwargs):\n",
    "        super().__init__(**kwargs)\n",
    "        \n",
    "        self.standardize = torchvision.transforms.Compose([\n",
    "            torchvision.transforms.Resize([256]),\n",
    "            torchvision.transforms.CenterCrop([224]),\n",
    "            torchvision.transforms.Lambda(lambda x: x / 255.0),\n",
    "            torchvision.transforms.Normalize(mean = [0.485, 0.456, 0.406],\n",
    "                                             std = [0.229, 0.224, 0.225]),\n",
    "        ])\n",
    "\n",
    "        self.transform = torchvision.transforms.Compose([\n",
    "            torchvision.transforms.RandomAffine(degrees = (-10.0, 10.0),\n",
    "                                                translate = (0.1, 0.1),\n",
    "                                                scale = (0.9, 1.1),\n",
    "                                                shear = (-10.0, 10.0)),\n",
    "            torchvision.transforms.RandomHorizontalFlip(0.5),\n",
    "            # torchvision.transforms.RandomAffine(degrees=(-180.0, 180.0),\n",
    "            #                                     translate=(0.1, 0.1),\n",
    "            #                                     scale=(0.9, 1.1),\n",
    "            #                                     shear=(-10.0, 10.0)),\n",
    "        ])\n",
    "\n",
    "    def forward(self, x):\n",
    "        y = x\n",
    "        y = self.standardize(y)\n",
    "        if self.training:\n",
    "            y = self.transform(y)\n",
    "        return y"
   ]
  },
  {
   "cell_type": "markdown",
   "id": "82caac3d-a60e-42b5-8626-307baa8192ed",
   "metadata": {},
   "source": [
    "# Our actual network which inherits all of the\n",
    "# above functionality - note we can utilize\n",
    "# super().forward() to functionalize the parent class\n",
    "# calculations directly.\n",
    "class ResNet50(StandardizeTransformModule):\n",
    "    def __init__(self,\n",
    "                 input_shape,\n",
    "                 output_shape,\n",
    "                 **kwargs):\n",
    "        super().__init__(num_classes=output_shape[-1],\n",
    "                         **kwargs)\n",
    "        self.save_hyperparameters()\n",
    "        self.input_shape = input_shape\n",
    "        self.output_shape = output_shape\n",
    "\n",
    "        self.resnet = torchvision.models.resnet50(weights=torchvision.models.ResNet50_Weights.IMAGENET1K_V1)\n",
    "        self.resnet.fc = torch.nn.Linear(self.resnet.fc.in_features,\n",
    "                                         output_shape[-1])\n",
    "        \n",
    "    def forward(self, x):\n",
    "        y = x\n",
    "        y = super().forward(y)\n",
    "        y = self.resnet(y)\n",
    "        return y\n",
    "\n",
    "    def predict(self, x):\n",
    "        return torch.softmax(self(x), -1)"
   ]
  },
  {
   "cell_type": "code",
   "execution_count": 132,
   "id": "c86a7ee1-c94c-4555-ae4c-2fdcac373237",
   "metadata": {},
   "outputs": [],
   "source": [
    "# Our actual network which inherits all of the\n",
    "# above functionality - note we can utilize\n",
    "# super().forward() to functionalize the parent class\n",
    "# calculations directly.\n",
    "class GoogLeNet(StandardizeTransformModule):\n",
    "    def __init__(self,\n",
    "                 input_shape,\n",
    "                 output_shape,\n",
    "                 **kwargs):\n",
    "        super().__init__(num_classes=output_shape[-1],\n",
    "                         **kwargs)\n",
    "        self.save_hyperparameters()\n",
    "        self.input_shape = input_shape\n",
    "        self.output_shape = output_shape\n",
    "\n",
    "        # self.resnet = torchvision.models.googlenet(weights=torchvision.models.GoogLeNet_Weights.IMAGENET1K_V1)\n",
    "        self.resnet = torchvision.models.googlenet(weights=None)\n",
    "        self.resnet.fc = torch.nn.Linear(self.resnet.fc.in_features,\n",
    "                                         output_shape[-1])\n",
    "        \n",
    "    def forward(self, x):\n",
    "        y = x\n",
    "        y = super().forward(y)\n",
    "        y = self.resnet(y)\n",
    "        return y\n",
    "\n",
    "    def predict(self, x):\n",
    "        return torch.softmax(self(x), -1)"
   ]
  },
  {
   "cell_type": "code",
   "execution_count": 133,
   "id": "d9e01174-0dc0-49cf-8488-f7b608d8a00d",
   "metadata": {},
   "outputs": [
    {
     "data": {
      "text/plain": [
       "10"
      ]
     },
     "execution_count": 133,
     "metadata": {},
     "output_type": "execute_result"
    }
   ],
   "source": [
    "data_module.output_shape[0]"
   ]
  },
  {
   "cell_type": "code",
   "execution_count": 134,
   "id": "621abfbc-9013-422e-9a43-2dedf52193d6",
   "metadata": {},
   "outputs": [
    {
     "data": {
      "text/plain": [
       "torch.Size([64, 3, 64, 64])"
      ]
     },
     "execution_count": 134,
     "metadata": {},
     "output_type": "execute_result"
    }
   ],
   "source": [
    "batch[0].shape"
   ]
  },
  {
   "cell_type": "markdown",
   "id": "3b9b5736-1813-4376-9b99-1122b275a960",
   "metadata": {},
   "source": [
    "model = ResNet50(input_shape = data_module.input_shape,\n",
    "                 output_shape = data_module.output_shape)\n",
    "summary(model, input_size = (1,) + data_module.input_shape)"
   ]
  },
  {
   "cell_type": "code",
   "execution_count": 135,
   "id": "ca4f967c-adee-4fc6-8748-4ab2dcf9ce34",
   "metadata": {},
   "outputs": [
    {
     "data": {
      "text/plain": [
       "===============================================================================================\n",
       "Layer (type:depth-idx)                        Output Shape              Param #\n",
       "===============================================================================================\n",
       "GoogLeNet                                     [1, 10]                   --\n",
       "├─GoogLeNet: 1-1                              [1, 10]                   6,379,984\n",
       "│    └─BasicConv2d: 2-1                       [1, 64, 112, 112]         --\n",
       "│    │    └─Conv2d: 3-1                       [1, 64, 112, 112]         9,408\n",
       "│    │    └─BatchNorm2d: 3-2                  [1, 64, 112, 112]         128\n",
       "│    └─MaxPool2d: 2-2                         [1, 64, 56, 56]           --\n",
       "│    └─BasicConv2d: 2-3                       [1, 64, 56, 56]           --\n",
       "│    │    └─Conv2d: 3-3                       [1, 64, 56, 56]           4,096\n",
       "│    │    └─BatchNorm2d: 3-4                  [1, 64, 56, 56]           128\n",
       "│    └─BasicConv2d: 2-4                       [1, 192, 56, 56]          --\n",
       "│    │    └─Conv2d: 3-5                       [1, 192, 56, 56]          110,592\n",
       "│    │    └─BatchNorm2d: 3-6                  [1, 192, 56, 56]          384\n",
       "│    └─MaxPool2d: 2-5                         [1, 192, 28, 28]          --\n",
       "│    └─Inception: 2-6                         [1, 256, 28, 28]          --\n",
       "│    │    └─BasicConv2d: 3-7                  [1, 64, 28, 28]           12,416\n",
       "│    │    └─Sequential: 3-8                   [1, 128, 28, 28]          129,472\n",
       "│    │    └─Sequential: 3-9                   [1, 32, 28, 28]           7,776\n",
       "│    │    └─Sequential: 3-10                  [1, 32, 28, 28]           6,208\n",
       "│    └─Inception: 2-7                         [1, 480, 28, 28]          --\n",
       "│    │    └─BasicConv2d: 3-11                 [1, 128, 28, 28]          33,024\n",
       "│    │    └─Sequential: 3-12                  [1, 192, 28, 28]          254,592\n",
       "│    │    └─Sequential: 3-13                  [1, 96, 28, 28]           36,096\n",
       "│    │    └─Sequential: 3-14                  [1, 64, 28, 28]           16,512\n",
       "│    └─MaxPool2d: 2-8                         [1, 480, 14, 14]          --\n",
       "│    └─Inception: 2-9                         [1, 512, 14, 14]          --\n",
       "│    │    └─BasicConv2d: 3-15                 [1, 192, 14, 14]          92,544\n",
       "│    │    └─Sequential: 3-16                  [1, 208, 14, 14]          226,400\n",
       "│    │    └─Sequential: 3-17                  [1, 48, 14, 14]           14,720\n",
       "│    │    └─Sequential: 3-18                  [1, 64, 14, 14]           30,848\n",
       "│    └─Inception: 2-10                        [1, 512, 14, 14]          --\n",
       "│    │    └─BasicConv2d: 3-19                 [1, 160, 14, 14]          82,240\n",
       "│    │    └─Sequential: 3-20                  [1, 224, 14, 14]          283,808\n",
       "│    │    └─Sequential: 3-21                  [1, 64, 14, 14]           26,288\n",
       "│    │    └─Sequential: 3-22                  [1, 64, 14, 14]           32,896\n",
       "│    └─Inception: 2-11                        [1, 512, 14, 14]          --\n",
       "│    │    └─BasicConv2d: 3-23                 [1, 128, 14, 14]          65,792\n",
       "│    │    └─Sequential: 3-24                  [1, 256, 14, 14]          361,216\n",
       "│    │    └─Sequential: 3-25                  [1, 64, 14, 14]           26,288\n",
       "│    │    └─Sequential: 3-26                  [1, 64, 14, 14]           32,896\n",
       "│    └─Inception: 2-12                        [1, 528, 14, 14]          --\n",
       "│    │    └─BasicConv2d: 3-27                 [1, 112, 14, 14]          57,568\n",
       "│    │    └─Sequential: 3-28                  [1, 288, 14, 14]          447,840\n",
       "│    │    └─Sequential: 3-29                  [1, 64, 14, 14]           35,008\n",
       "│    │    └─Sequential: 3-30                  [1, 64, 14, 14]           32,896\n",
       "│    └─Inception: 2-13                        [1, 832, 14, 14]          --\n",
       "│    │    └─BasicConv2d: 3-31                 [1, 256, 14, 14]          135,680\n",
       "│    │    └─Sequential: 3-32                  [1, 320, 14, 14]          546,240\n",
       "│    │    └─Sequential: 3-33                  [1, 128, 14, 14]          54,080\n",
       "│    │    └─Sequential: 3-34                  [1, 128, 14, 14]          67,840\n",
       "│    └─MaxPool2d: 2-14                        [1, 832, 7, 7]            --\n",
       "│    └─Inception: 2-15                        [1, 832, 7, 7]            --\n",
       "│    │    └─BasicConv2d: 3-35                 [1, 256, 7, 7]            213,504\n",
       "│    │    └─Sequential: 3-36                  [1, 320, 7, 7]            594,880\n",
       "│    │    └─Sequential: 3-37                  [1, 128, 7, 7]            63,808\n",
       "│    │    └─Sequential: 3-38                  [1, 128, 7, 7]            106,752\n",
       "│    └─Inception: 2-16                        [1, 1024, 7, 7]           --\n",
       "│    │    └─BasicConv2d: 3-39                 [1, 384, 7, 7]            320,256\n",
       "│    │    └─Sequential: 3-40                  [1, 384, 7, 7]            824,448\n",
       "│    │    └─Sequential: 3-41                  [1, 128, 7, 7]            95,584\n",
       "│    │    └─Sequential: 3-42                  [1, 128, 7, 7]            106,752\n",
       "│    └─AdaptiveAvgPool2d: 2-17                [1, 1024, 1, 1]           --\n",
       "│    └─Dropout: 2-18                          [1, 1024]                 --\n",
       "│    └─Linear: 2-19                           [1, 10]                   10,250\n",
       "===============================================================================================\n",
       "Total params: 11,990,138\n",
       "Trainable params: 11,990,138\n",
       "Non-trainable params: 0\n",
       "Total mult-adds (Units.GIGABYTES): 1.50\n",
       "===============================================================================================\n",
       "Input size (MB): 0.05\n",
       "Forward/backward pass size (MB): 51.62\n",
       "Params size (MB): 22.44\n",
       "Estimated Total Size (MB): 74.11\n",
       "==============================================================================================="
      ]
     },
     "execution_count": 135,
     "metadata": {},
     "output_type": "execute_result"
    }
   ],
   "source": [
    "model = GoogLeNet(input_shape = data_module.input_shape,\n",
    "                 output_shape = data_module.output_shape)\n",
    "summary(model, input_size = (1,) + data_module.input_shape)"
   ]
  },
  {
   "cell_type": "code",
   "execution_count": null,
   "id": "d6adfcbe-774a-4974-ae84-5c258c07c395",
   "metadata": {},
   "outputs": [],
   "source": []
  },
  {
   "cell_type": "markdown",
   "id": "d6efe398-a5ca-4679-b7bc-a4353bb131ce",
   "metadata": {},
   "source": [
    "logger = pl.loggers.CSVLogger(\"logs\",\n",
    "                              name=\"ResNet-EuroSAT\",\n",
    "                              version=\"resnet-eurosat\")"
   ]
  },
  {
   "cell_type": "code",
   "execution_count": 136,
   "id": "cf942447-9970-4e97-bf2d-45371839c6ba",
   "metadata": {},
   "outputs": [],
   "source": [
    "logger = pl.loggers.CSVLogger(\"logs\",\n",
    "                              name=\"AHHH\",\n",
    "                              version=\"ahhh\")"
   ]
  },
  {
   "cell_type": "code",
   "execution_count": 137,
   "id": "9006bf05-fc13-4899-aae0-22191939d114",
   "metadata": {},
   "outputs": [
    {
     "name": "stderr",
     "output_type": "stream",
     "text": [
      "GPU available: True (cuda), used: True\n",
      "TPU available: False, using: 0 TPU cores\n",
      "HPU available: False, using: 0 HPUs\n"
     ]
    }
   ],
   "source": [
    "trainer = pl.Trainer(logger=logger,\n",
    "                     max_epochs=5,\n",
    "                     enable_progress_bar=True,\n",
    "                     log_every_n_steps=0,\n",
    "                     enable_checkpointing=True,\n",
    "                     callbacks=[pl.callbacks.TQDMProgressBar(refresh_rate=50)])"
   ]
  },
  {
   "cell_type": "markdown",
   "id": "cbcc5a6d-a8a5-435c-a093-f9f744659d33",
   "metadata": {},
   "source": [
    "trainer.validate(model, data_module)"
   ]
  },
  {
   "cell_type": "code",
   "execution_count": 138,
   "id": "aea1f17f-26b8-480b-93b9-e5929fa8cff1",
   "metadata": {},
   "outputs": [
    {
     "name": "stderr",
     "output_type": "stream",
     "text": [
      "LOCAL_RANK: 0 - CUDA_VISIBLE_DEVICES: [0]\n",
      "\n",
      "  | Name            | Type             | Params | Mode \n",
      "-------------------------------------------------------------\n",
      "0 | network_metrics | ModuleDict       | 0      | train\n",
      "1 | network_loss    | CrossEntropyLoss | 0      | train\n",
      "2 | resnet          | GoogLeNet        | 12.0 M | train\n",
      "-------------------------------------------------------------\n",
      "12.0 M    Trainable params\n",
      "0         Non-trainable params\n",
      "12.0 M    Total params\n",
      "47.961    Total estimated model params size (MB)\n",
      "241       Modules in train mode\n",
      "0         Modules in eval mode\n",
      "SLURM auto-requeueing enabled. Setting signal handlers.\n"
     ]
    },
    {
     "data": {
      "application/vnd.jupyter.widget-view+json": {
       "model_id": "",
       "version_major": 2,
       "version_minor": 0
      },
      "text/plain": [
       "Sanity Checking: |          | 0/? [00:00<?, ?it/s]"
      ]
     },
     "metadata": {},
     "output_type": "display_data"
    },
    {
     "data": {
      "application/vnd.jupyter.widget-view+json": {
       "model_id": "ae6d5d1b78c64e43ba339bb5edc4512c",
       "version_major": 2,
       "version_minor": 0
      },
      "text/plain": [
       "Training: |          | 0/? [00:00<?, ?it/s]"
      ]
     },
     "metadata": {},
     "output_type": "display_data"
    },
    {
     "data": {
      "application/vnd.jupyter.widget-view+json": {
       "model_id": "",
       "version_major": 2,
       "version_minor": 0
      },
      "text/plain": [
       "Validation: |          | 0/? [00:00<?, ?it/s]"
      ]
     },
     "metadata": {},
     "output_type": "display_data"
    },
    {
     "data": {
      "application/vnd.jupyter.widget-view+json": {
       "model_id": "",
       "version_major": 2,
       "version_minor": 0
      },
      "text/plain": [
       "Validation: |          | 0/? [00:00<?, ?it/s]"
      ]
     },
     "metadata": {},
     "output_type": "display_data"
    },
    {
     "data": {
      "application/vnd.jupyter.widget-view+json": {
       "model_id": "",
       "version_major": 2,
       "version_minor": 0
      },
      "text/plain": [
       "Validation: |          | 0/? [00:00<?, ?it/s]"
      ]
     },
     "metadata": {},
     "output_type": "display_data"
    },
    {
     "data": {
      "application/vnd.jupyter.widget-view+json": {
       "model_id": "",
       "version_major": 2,
       "version_minor": 0
      },
      "text/plain": [
       "Validation: |          | 0/? [00:00<?, ?it/s]"
      ]
     },
     "metadata": {},
     "output_type": "display_data"
    },
    {
     "data": {
      "application/vnd.jupyter.widget-view+json": {
       "model_id": "",
       "version_major": 2,
       "version_minor": 0
      },
      "text/plain": [
       "Validation: |          | 0/? [00:00<?, ?it/s]"
      ]
     },
     "metadata": {},
     "output_type": "display_data"
    },
    {
     "name": "stderr",
     "output_type": "stream",
     "text": [
      "`Trainer.fit` stopped: `max_epochs=5` reached.\n"
     ]
    }
   ],
   "source": [
    "trainer.fit(model, data_module)"
   ]
  },
  {
   "cell_type": "code",
   "execution_count": 139,
   "id": "52904b33-7e38-4183-a131-8409b0bdae2d",
   "metadata": {},
   "outputs": [
    {
     "name": "stderr",
     "output_type": "stream",
     "text": [
      "LOCAL_RANK: 0 - CUDA_VISIBLE_DEVICES: [0]\n",
      "SLURM auto-requeueing enabled. Setting signal handlers.\n"
     ]
    },
    {
     "data": {
      "application/vnd.jupyter.widget-view+json": {
       "model_id": "33305a5afb974ef7834fe1abd275f9fd",
       "version_major": 2,
       "version_minor": 0
      },
      "text/plain": [
       "Validation: |          | 0/? [00:00<?, ?it/s]"
      ]
     },
     "metadata": {},
     "output_type": "display_data"
    },
    {
     "data": {
      "text/html": [
       "<pre style=\"white-space:pre;overflow-x:auto;line-height:normal;font-family:Menlo,'DejaVu Sans Mono',consolas,'Courier New',monospace\">┏━━━━━━━━━━━━━━━━━━━━━━━━━━━┳━━━━━━━━━━━━━━━━━━━━━━━━━━━┓\n",
       "┃<span style=\"font-weight: bold\">      Validate metric      </span>┃<span style=\"font-weight: bold\">       DataLoader 0        </span>┃\n",
       "┡━━━━━━━━━━━━━━━━━━━━━━━━━━━╇━━━━━━━━━━━━━━━━━━━━━━━━━━━┩\n",
       "│<span style=\"color: #008080; text-decoration-color: #008080\">          val_acc          </span>│<span style=\"color: #800080; text-decoration-color: #800080\">    0.8220370411872864     </span>│\n",
       "│<span style=\"color: #008080; text-decoration-color: #008080\">         val_loss          </span>│<span style=\"color: #800080; text-decoration-color: #800080\">    0.5586033463478088     </span>│\n",
       "└───────────────────────────┴───────────────────────────┘\n",
       "</pre>\n"
      ],
      "text/plain": [
       "┏━━━━━━━━━━━━━━━━━━━━━━━━━━━┳━━━━━━━━━━━━━━━━━━━━━━━━━━━┓\n",
       "┃\u001b[1m \u001b[0m\u001b[1m     Validate metric     \u001b[0m\u001b[1m \u001b[0m┃\u001b[1m \u001b[0m\u001b[1m      DataLoader 0       \u001b[0m\u001b[1m \u001b[0m┃\n",
       "┡━━━━━━━━━━━━━━━━━━━━━━━━━━━╇━━━━━━━━━━━━━━━━━━━━━━━━━━━┩\n",
       "│\u001b[36m \u001b[0m\u001b[36m         val_acc         \u001b[0m\u001b[36m \u001b[0m│\u001b[35m \u001b[0m\u001b[35m   0.8220370411872864    \u001b[0m\u001b[35m \u001b[0m│\n",
       "│\u001b[36m \u001b[0m\u001b[36m        val_loss         \u001b[0m\u001b[36m \u001b[0m│\u001b[35m \u001b[0m\u001b[35m   0.5586033463478088    \u001b[0m\u001b[35m \u001b[0m│\n",
       "└───────────────────────────┴───────────────────────────┘\n"
      ]
     },
     "metadata": {},
     "output_type": "display_data"
    },
    {
     "data": {
      "text/plain": [
       "[{'val_acc': 0.8220370411872864, 'val_loss': 0.5586033463478088}]"
      ]
     },
     "execution_count": 139,
     "metadata": {},
     "output_type": "execute_result"
    }
   ],
   "source": [
    "trainer.validate(model, data_module)"
   ]
  },
  {
   "cell_type": "code",
   "execution_count": 140,
   "id": "0fdfe3e4-af41-40b6-acb4-01dddf0719c0",
   "metadata": {},
   "outputs": [
    {
     "data": {
      "text/html": [
       "<div>\n",
       "<style scoped>\n",
       "    .dataframe tbody tr th:only-of-type {\n",
       "        vertical-align: middle;\n",
       "    }\n",
       "\n",
       "    .dataframe tbody tr th {\n",
       "        vertical-align: top;\n",
       "    }\n",
       "\n",
       "    .dataframe thead th {\n",
       "        text-align: right;\n",
       "    }\n",
       "</style>\n",
       "<table border=\"1\" class=\"dataframe\">\n",
       "  <thead>\n",
       "    <tr style=\"text-align: right;\">\n",
       "      <th></th>\n",
       "      <th>epoch</th>\n",
       "      <th>step</th>\n",
       "      <th>train_acc</th>\n",
       "      <th>train_loss</th>\n",
       "      <th>val_acc</th>\n",
       "      <th>val_loss</th>\n",
       "    </tr>\n",
       "  </thead>\n",
       "  <tbody>\n",
       "    <tr>\n",
       "      <th>0</th>\n",
       "      <td>0</td>\n",
       "      <td>337</td>\n",
       "      <td>NaN</td>\n",
       "      <td>NaN</td>\n",
       "      <td>0.641852</td>\n",
       "      <td>1.382298</td>\n",
       "    </tr>\n",
       "    <tr>\n",
       "      <th>1</th>\n",
       "      <td>0</td>\n",
       "      <td>337</td>\n",
       "      <td>0.591944</td>\n",
       "      <td>1.101149</td>\n",
       "      <td>NaN</td>\n",
       "      <td>NaN</td>\n",
       "    </tr>\n",
       "    <tr>\n",
       "      <th>2</th>\n",
       "      <td>1</td>\n",
       "      <td>675</td>\n",
       "      <td>NaN</td>\n",
       "      <td>NaN</td>\n",
       "      <td>0.602407</td>\n",
       "      <td>1.184182</td>\n",
       "    </tr>\n",
       "    <tr>\n",
       "      <th>3</th>\n",
       "      <td>1</td>\n",
       "      <td>675</td>\n",
       "      <td>0.737176</td>\n",
       "      <td>0.737012</td>\n",
       "      <td>NaN</td>\n",
       "      <td>NaN</td>\n",
       "    </tr>\n",
       "    <tr>\n",
       "      <th>4</th>\n",
       "      <td>2</td>\n",
       "      <td>1013</td>\n",
       "      <td>NaN</td>\n",
       "      <td>NaN</td>\n",
       "      <td>0.774630</td>\n",
       "      <td>0.642992</td>\n",
       "    </tr>\n",
       "    <tr>\n",
       "      <th>5</th>\n",
       "      <td>2</td>\n",
       "      <td>1013</td>\n",
       "      <td>0.784630</td>\n",
       "      <td>0.617442</td>\n",
       "      <td>NaN</td>\n",
       "      <td>NaN</td>\n",
       "    </tr>\n",
       "    <tr>\n",
       "      <th>6</th>\n",
       "      <td>3</td>\n",
       "      <td>1351</td>\n",
       "      <td>NaN</td>\n",
       "      <td>NaN</td>\n",
       "      <td>0.821296</td>\n",
       "      <td>0.543071</td>\n",
       "    </tr>\n",
       "    <tr>\n",
       "      <th>7</th>\n",
       "      <td>3</td>\n",
       "      <td>1351</td>\n",
       "      <td>0.816389</td>\n",
       "      <td>0.532638</td>\n",
       "      <td>NaN</td>\n",
       "      <td>NaN</td>\n",
       "    </tr>\n",
       "    <tr>\n",
       "      <th>8</th>\n",
       "      <td>4</td>\n",
       "      <td>1689</td>\n",
       "      <td>NaN</td>\n",
       "      <td>NaN</td>\n",
       "      <td>0.822037</td>\n",
       "      <td>0.558603</td>\n",
       "    </tr>\n",
       "    <tr>\n",
       "      <th>9</th>\n",
       "      <td>4</td>\n",
       "      <td>1689</td>\n",
       "      <td>0.844954</td>\n",
       "      <td>0.453622</td>\n",
       "      <td>NaN</td>\n",
       "      <td>NaN</td>\n",
       "    </tr>\n",
       "    <tr>\n",
       "      <th>10</th>\n",
       "      <td>5</td>\n",
       "      <td>1690</td>\n",
       "      <td>NaN</td>\n",
       "      <td>NaN</td>\n",
       "      <td>0.822037</td>\n",
       "      <td>0.558603</td>\n",
       "    </tr>\n",
       "  </tbody>\n",
       "</table>\n",
       "</div>"
      ],
      "text/plain": [
       "    epoch  step  train_acc  train_loss   val_acc  val_loss\n",
       "0       0   337        NaN         NaN  0.641852  1.382298\n",
       "1       0   337   0.591944    1.101149       NaN       NaN\n",
       "2       1   675        NaN         NaN  0.602407  1.184182\n",
       "3       1   675   0.737176    0.737012       NaN       NaN\n",
       "4       2  1013        NaN         NaN  0.774630  0.642992\n",
       "5       2  1013   0.784630    0.617442       NaN       NaN\n",
       "6       3  1351        NaN         NaN  0.821296  0.543071\n",
       "7       3  1351   0.816389    0.532638       NaN       NaN\n",
       "8       4  1689        NaN         NaN  0.822037  0.558603\n",
       "9       4  1689   0.844954    0.453622       NaN       NaN\n",
       "10      5  1690        NaN         NaN  0.822037  0.558603"
      ]
     },
     "execution_count": 140,
     "metadata": {},
     "output_type": "execute_result"
    }
   ],
   "source": [
    "results = pd.read_csv(logger.log_dir+\"/metrics.csv\")\n",
    "results"
   ]
  },
  {
   "cell_type": "code",
   "execution_count": 141,
   "id": "0660b2dc-1b75-4698-bb7a-ea3dfb5facc0",
   "metadata": {},
   "outputs": [
    {
     "data": {
      "image/png": "[encoded data removed]",
      "text/plain": [
       "<Figure size 640x480 with 1 Axes>"
      ]
     },
     "metadata": {},
     "output_type": "display_data"
    }
   ],
   "source": [
    "plt.plot(results[\"epoch\"][np.logical_not(np.isnan(results[\"train_loss\"]))],\n",
    "         results[\"train_loss\"][np.logical_not(np.isnan(results[\"train_loss\"]))],\n",
    "         label=\"Training\")\n",
    "plt.plot(results[\"epoch\"][np.logical_not(np.isnan(results[\"val_loss\"]))],\n",
    "         results[\"val_loss\"][np.logical_not(np.isnan(results[\"val_loss\"]))],\n",
    "         label=\"Validation\")\n",
    "plt.legend()\n",
    "plt.ylabel(\"CCE Loss\")\n",
    "plt.xlabel(\"Epoch\")\n",
    "plt.show()"
   ]
  },
  {
   "cell_type": "code",
   "execution_count": 142,
   "id": "39413f21-6c3a-45b7-80d0-6076e26529ea",
   "metadata": {},
   "outputs": [
    {
     "data": {
      "image/png": "[encoded data removed]",
      "text/plain": [
       "<Figure size 640x480 with 1 Axes>"
      ]
     },
     "metadata": {},
     "output_type": "display_data"
    }
   ],
   "source": [
    "plt.plot(results[\"epoch\"][np.logical_not(np.isnan(results[\"train_acc\"]))],\n",
    "         results[\"train_acc\"][np.logical_not(np.isnan(results[\"train_acc\"]))],\n",
    "         label=\"Training\")\n",
    "plt.plot(results[\"epoch\"][np.logical_not(np.isnan(results[\"val_acc\"]))],\n",
    "         results[\"val_acc\"][np.logical_not(np.isnan(results[\"val_acc\"]))],\n",
    "         label=\"Validation\")\n",
    "plt.legend()\n",
    "plt.ylabel(\"Accuracy\")\n",
    "plt.xlabel(\"Epoch\")\n",
    "plt.show()"
   ]
  },
  {
   "cell_type": "code",
   "execution_count": null,
   "id": "581928c5-d244-4d51-a29d-5c889fb3fed4",
   "metadata": {},
   "outputs": [],
   "source": []
  }
 ],
 "metadata": {
  "kernelspec": {
   "display_name": "Python 3 (ipykernel)",
   "language": "python",
   "name": "python3"
  },
  "language_info": {
   "codemirror_mode": {
    "name": "ipython",
    "version": 3
   },
   "file_extension": ".py",
   "mimetype": "text/x-python",
   "name": "python",
   "nbconvert_exporter": "python",
   "pygments_lexer": "ipython3",
   "version": "3.11.9"
  }
 },
 "nbformat": 4,
 "nbformat_minor": 5
}
